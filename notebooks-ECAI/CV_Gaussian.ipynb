{
 "cells": [
  {
   "cell_type": "code",
   "execution_count": 1,
   "metadata": {},
   "outputs": [],
   "source": [
    "%load_ext autoreload\n",
    "%autoreload 2\n",
    "\n",
    "from deltas.pipeline import data, classifier, evaluation\n",
    "from deltas.model import base, downsample\n",
    "import deltas.plotting.plots as plots\n",
    "from tqdm import tqdm\n",
    "\n",
    "import numpy as np\n",
    "import pandas as pd\n",
    "# np.random.seed(10)\n"
   ]
  },
  {
   "cell_type": "code",
   "execution_count": 2,
   "metadata": {},
   "outputs": [
    {
     "name": "stderr",
     "output_type": "stream",
     "text": [
      " 30%|███       | 3/10 [00:32<01:19, 11.39s/it]/home/matt/anaconda3/envs/deltas/lib/python3.10/site-packages/sklearn/neural_network/_multilayer_perceptron.py:691: ConvergenceWarning: Stochastic Optimizer: Maximum iterations (500) reached and the optimization hasn't converged yet.\n",
      "  warnings.warn(\n",
      " 40%|████      | 4/10 [00:44<01:10, 11.67s/it]/home/matt/anaconda3/envs/deltas/lib/python3.10/site-packages/sklearn/neural_network/_multilayer_perceptron.py:691: ConvergenceWarning: Stochastic Optimizer: Maximum iterations (500) reached and the optimization hasn't converged yet.\n",
      "  warnings.warn(\n",
      " 60%|██████    | 6/10 [01:08<00:47, 11.90s/it]/home/matt/anaconda3/envs/deltas/lib/python3.10/site-packages/sklearn/neural_network/_multilayer_perceptron.py:691: ConvergenceWarning: Stochastic Optimizer: Maximum iterations (500) reached and the optimization hasn't converged yet.\n",
      "  warnings.warn(\n",
      " 70%|███████   | 7/10 [01:20<00:35, 11.76s/it]/home/matt/anaconda3/envs/deltas/lib/python3.10/site-packages/sklearn/neural_network/_multilayer_perceptron.py:691: ConvergenceWarning: Stochastic Optimizer: Maximum iterations (500) reached and the optimization hasn't converged yet.\n",
      "  warnings.warn(\n",
      " 80%|████████  | 8/10 [01:30<00:22, 11.48s/it]/home/matt/anaconda3/envs/deltas/lib/python3.10/site-packages/sklearn/neural_network/_multilayer_perceptron.py:691: ConvergenceWarning: Stochastic Optimizer: Maximum iterations (500) reached and the optimization hasn't converged yet.\n",
      "  warnings.warn(\n",
      "100%|██████████| 10/10 [01:53<00:00, 11.31s/it]\n"
     ]
    }
   ],
   "source": [
    "\n",
    "N1 = 1000\n",
    "N2 = 10\n",
    "m = 1\n",
    "v = 1\n",
    "costs = (1, 1)  # change for (1, 10) to increase results\n",
    "# Gaussian (not always seperable)\n",
    "dfs = []\n",
    "for i in tqdm(range(10)):\n",
    "    data_clf = data.get_data(\n",
    "        m1=[-m, -m],\n",
    "        m2=[m, m],\n",
    "        cov1=[[v, 0], [0, v]],\n",
    "        cov2=[[v, 0], [0, v]],\n",
    "        N1=N1,\n",
    "        N2=N2,\n",
    "        scale=False,\n",
    "        test_nums=[10000, 10000],\n",
    "    )\n",
    "\n",
    "    model = 'SVM-linear'\n",
    "    model = 'SVM-rbf'\n",
    "    # model = 'Linear'\n",
    "    model = 'MLP'\n",
    "\n",
    "    classifiers_dict = classifier.get_classifier(\n",
    "        data_clf=data_clf,\n",
    "        model=model,\n",
    "        _plot=False)\n",
    "    data_clf['clf'] = classifiers_dict['Baseline']\n",
    "    X = data_clf['data']['X']\n",
    "    y = data_clf['data']['y']\n",
    "    clf = data_clf['clf']\n",
    "    # deltas_model = downsample.downsample_deltas(\n",
    "    #     clf).fit(X, y, _print=True, _plot=True, max_trials=10000)\n",
    "    # deltas_model = base.base_deltas(\n",
    "    #     clf).fit(X, y, grid_search=True, _print=True, _plot=True)\n",
    "    deltas_model = downsample.downsample_deltas(clf).fit(X, y,\n",
    "                                                         alpha=10,\n",
    "                                                         _print=False,\n",
    "                                                         _plot=False,\n",
    "                                                         method='supports-prop-update_mean',\n",
    "                                                         max_trials=10000,\n",
    "                                                         parallel=True)\n",
    "\n",
    "    if deltas_model.is_fit == True:\n",
    "        classifiers_dict['Our Method'] = deltas_model\n",
    "        scores_df = evaluation.eval_test(classifiers_dict,\n",
    "                                         data_clf['data_test'], _print=False, _plot=False)\n",
    "        dfs.append(scores_df)\n",
    "    else:\n",
    "        print('not fit deltas')"
   ]
  },
  {
   "cell_type": "code",
   "execution_count": 3,
   "metadata": {},
   "outputs": [
    {
     "name": "stdout",
     "output_type": "stream",
     "text": [
      "10\n"
     ]
    }
   ],
   "source": [
    "print(len(dfs))"
   ]
  },
  {
   "cell_type": "code",
   "execution_count": 4,
   "metadata": {},
   "outputs": [
    {
     "name": "stdout",
     "output_type": "stream",
     "text": [
      "                  Accuracy    G-Mean   ROC-AUC        F1\n",
      "Baseline          0.573455  0.307330  0.959843  0.232669\n",
      "SMOTE             0.842305  0.833383  0.942745  0.820422\n",
      "Balanced Weights  0.805030  0.783350  0.926490  0.758625\n",
      "BMR               0.873360  0.869049  0.959843  0.863686\n",
      "Threshold         0.874100  0.870004  0.959843  0.864841\n",
      "Our Method        0.873425  0.868862  0.959843  0.863071\n",
      "\\begin{tabular}{@{}lrrrr@{}}\n",
      "\\toprule\n",
      "Methods & Accuracy & G-Mean & ROC-AUC & F1 \\\\\n",
      "\\midrule\n",
      "Baseline & $.573 \\pm .07$ & $.307 \\pm .24$ & $\\textbf{.959} \\pm .00$ & $.232 \\pm .21$ \\\\\n",
      "SMOTE \\cite{Chawla_2002_JAIR} & $.842 \\pm .04$ & $.833 \\pm .04$ & $.942 \\pm .03$ & $.820 \\pm .05$ \\\\\n",
      "BW & $.805 \\pm .06$ & $.783 \\pm .08$ & $.926 \\pm .06$ & $.758 \\pm .10$ \\\\\n",
      "BMR \\cite{Bahnsen_2014_SIAM} & $.873 \\pm .03$ & $.869 \\pm .03$ & $.959 \\pm .00$ & $.863 \\pm .04$ \\\\\n",
      "Thresh \\cite{Sheng_2006_AAAI} & $\\textbf{.874} \\pm .02$ & $\\textbf{.870} \\pm .03$ & $.959 \\pm .00$ & $\\textbf{.864} \\pm .04$ \\\\\n",
      "Our Method & $.873 \\pm .01$ & $.868 \\pm .02$ & $.959 \\pm .00$ & $.863 \\pm .02$ \\\\\n",
      "\\bottomrule\n",
      "\\end{tabular}\n",
      "\n"
     ]
    }
   ],
   "source": [
    "df = pd.concat(dfs, axis=0)\n",
    "mean = {}\n",
    "std = {}\n",
    "index = df.index.unique().to_list()\n",
    "cols = df.columns.to_list()\n",
    "for method in index:\n",
    "    mean[method] = df.loc[method].mean().to_list()\n",
    "    std[method] = df.loc[method].std().to_list()\n",
    "\n",
    "mean_df = pd.DataFrame.from_dict(mean, orient='index', columns=cols)\n",
    "print(mean_df)\n",
    "std_df = pd.DataFrame.from_dict(std, orient='index', columns=cols)\n",
    "\n",
    "m = mean_df.to_dict('list')\n",
    "s = std_df.to_dict('list')\n",
    "metrics = mean_df.columns.to_list()\n",
    "methods = mean_df.index.to_list()\n",
    "sf = 5\n",
    "for metric in metrics:\n",
    "    means = m[metric]\n",
    "    sts = s[metric]\n",
    "    mx = np.argmax(means)\n",
    "    for i in range(len(means)):\n",
    "        m_str = str(means[i])[1:sf]\n",
    "        if i == mx:\n",
    "            m_str = f\"\\\\textbf{{{m_str}}}\"\n",
    "        s_str = str(sts[i])[1:sf-1]\n",
    "        m[metric][i] = f'${m_str} \\\\pm {s_str}$'\n",
    "\n",
    "method_map = {\n",
    "    'Baseline': 'Baseline',\n",
    "    'SMOTE': \"SMOTE \\cite{Chawla_2002_JAIR}\",\n",
    "    'Balanced Weights': 'BW',\n",
    "    'BMR': 'BMR \\cite{Bahnsen_2014_SIAM}',\n",
    "    'Threshold': 'Thresh \\cite{Sheng_2006_AAAI}',\n",
    "    'Our Method': 'Our Method',\n",
    "}\n",
    "meths_new = []\n",
    "for me in methods:\n",
    "    meths_new.append(method_map[me])\n",
    "m['Methods'] = meths_new\n",
    "df = pd.DataFrame(m)  # .set_index('Methods')\n",
    "meths = df.pop('Methods')\n",
    "df.insert(0, 'Methods', meths)\n",
    "latex_str = df.to_latex(index=False)\n",
    "\n",
    "print('\\\\begin{tabular}{@{}lrrrr@{}}'+latex_str[22:])"
   ]
  },
  {
   "cell_type": "code",
   "execution_count": 5,
   "metadata": {},
   "outputs": [
    {
     "ename": "KeyError",
     "evalue": "'BMR'",
     "output_type": "error",
     "traceback": [
      "\u001b[0;31m---------------------------------------------------------------------------\u001b[0m",
      "\u001b[0;31mKeyError\u001b[0m                                  Traceback (most recent call last)",
      "Cell \u001b[0;32mIn[5], line 1\u001b[0m\n\u001b[0;32m----> 1\u001b[0m \u001b[43mdf\u001b[49m\u001b[38;5;241;43m.\u001b[39;49m\u001b[43mloc\u001b[49m\u001b[43m[\u001b[49m\u001b[38;5;124;43m'\u001b[39;49m\u001b[38;5;124;43mBMR\u001b[39;49m\u001b[38;5;124;43m'\u001b[39;49m\u001b[43m]\u001b[49m\u001b[38;5;241m.\u001b[39mmean()\u001b[38;5;241m.\u001b[39mto_list()\n\u001b[1;32m      2\u001b[0m df\u001b[38;5;241m.\u001b[39mcolumns\u001b[38;5;241m.\u001b[39mto_list()\n",
      "File \u001b[0;32m~/anaconda3/envs/deltas/lib/python3.10/site-packages/pandas/core/indexing.py:1191\u001b[0m, in \u001b[0;36m_LocationIndexer.__getitem__\u001b[0;34m(self, key)\u001b[0m\n\u001b[1;32m   1189\u001b[0m maybe_callable \u001b[38;5;241m=\u001b[39m com\u001b[38;5;241m.\u001b[39mapply_if_callable(key, \u001b[38;5;28mself\u001b[39m\u001b[38;5;241m.\u001b[39mobj)\n\u001b[1;32m   1190\u001b[0m maybe_callable \u001b[38;5;241m=\u001b[39m \u001b[38;5;28mself\u001b[39m\u001b[38;5;241m.\u001b[39m_check_deprecated_callable_usage(key, maybe_callable)\n\u001b[0;32m-> 1191\u001b[0m \u001b[38;5;28;01mreturn\u001b[39;00m \u001b[38;5;28;43mself\u001b[39;49m\u001b[38;5;241;43m.\u001b[39;49m\u001b[43m_getitem_axis\u001b[49m\u001b[43m(\u001b[49m\u001b[43mmaybe_callable\u001b[49m\u001b[43m,\u001b[49m\u001b[43m \u001b[49m\u001b[43maxis\u001b[49m\u001b[38;5;241;43m=\u001b[39;49m\u001b[43maxis\u001b[49m\u001b[43m)\u001b[49m\n",
      "File \u001b[0;32m~/anaconda3/envs/deltas/lib/python3.10/site-packages/pandas/core/indexing.py:1431\u001b[0m, in \u001b[0;36m_LocIndexer._getitem_axis\u001b[0;34m(self, key, axis)\u001b[0m\n\u001b[1;32m   1429\u001b[0m \u001b[38;5;66;03m# fall thru to straight lookup\u001b[39;00m\n\u001b[1;32m   1430\u001b[0m \u001b[38;5;28mself\u001b[39m\u001b[38;5;241m.\u001b[39m_validate_key(key, axis)\n\u001b[0;32m-> 1431\u001b[0m \u001b[38;5;28;01mreturn\u001b[39;00m \u001b[38;5;28;43mself\u001b[39;49m\u001b[38;5;241;43m.\u001b[39;49m\u001b[43m_get_label\u001b[49m\u001b[43m(\u001b[49m\u001b[43mkey\u001b[49m\u001b[43m,\u001b[49m\u001b[43m \u001b[49m\u001b[43maxis\u001b[49m\u001b[38;5;241;43m=\u001b[39;49m\u001b[43maxis\u001b[49m\u001b[43m)\u001b[49m\n",
      "File \u001b[0;32m~/anaconda3/envs/deltas/lib/python3.10/site-packages/pandas/core/indexing.py:1381\u001b[0m, in \u001b[0;36m_LocIndexer._get_label\u001b[0;34m(self, label, axis)\u001b[0m\n\u001b[1;32m   1379\u001b[0m \u001b[38;5;28;01mdef\u001b[39;00m \u001b[38;5;21m_get_label\u001b[39m(\u001b[38;5;28mself\u001b[39m, label, axis: AxisInt):\n\u001b[1;32m   1380\u001b[0m     \u001b[38;5;66;03m# GH#5567 this will fail if the label is not present in the axis.\u001b[39;00m\n\u001b[0;32m-> 1381\u001b[0m     \u001b[38;5;28;01mreturn\u001b[39;00m \u001b[38;5;28;43mself\u001b[39;49m\u001b[38;5;241;43m.\u001b[39;49m\u001b[43mobj\u001b[49m\u001b[38;5;241;43m.\u001b[39;49m\u001b[43mxs\u001b[49m\u001b[43m(\u001b[49m\u001b[43mlabel\u001b[49m\u001b[43m,\u001b[49m\u001b[43m \u001b[49m\u001b[43maxis\u001b[49m\u001b[38;5;241;43m=\u001b[39;49m\u001b[43maxis\u001b[49m\u001b[43m)\u001b[49m\n",
      "File \u001b[0;32m~/anaconda3/envs/deltas/lib/python3.10/site-packages/pandas/core/generic.py:4298\u001b[0m, in \u001b[0;36mNDFrame.xs\u001b[0;34m(self, key, axis, level, drop_level)\u001b[0m\n\u001b[1;32m   4296\u001b[0m             new_index \u001b[38;5;241m=\u001b[39m index[loc]\n\u001b[1;32m   4297\u001b[0m \u001b[38;5;28;01melse\u001b[39;00m:\n\u001b[0;32m-> 4298\u001b[0m     loc \u001b[38;5;241m=\u001b[39m \u001b[43mindex\u001b[49m\u001b[38;5;241;43m.\u001b[39;49m\u001b[43mget_loc\u001b[49m\u001b[43m(\u001b[49m\u001b[43mkey\u001b[49m\u001b[43m)\u001b[49m\n\u001b[1;32m   4300\u001b[0m     \u001b[38;5;28;01mif\u001b[39;00m \u001b[38;5;28misinstance\u001b[39m(loc, np\u001b[38;5;241m.\u001b[39mndarray):\n\u001b[1;32m   4301\u001b[0m         \u001b[38;5;28;01mif\u001b[39;00m loc\u001b[38;5;241m.\u001b[39mdtype \u001b[38;5;241m==\u001b[39m np\u001b[38;5;241m.\u001b[39mbool_:\n",
      "File \u001b[0;32m~/anaconda3/envs/deltas/lib/python3.10/site-packages/pandas/core/indexes/range.py:417\u001b[0m, in \u001b[0;36mRangeIndex.get_loc\u001b[0;34m(self, key)\u001b[0m\n\u001b[1;32m    415\u001b[0m         \u001b[38;5;28;01mraise\u001b[39;00m \u001b[38;5;167;01mKeyError\u001b[39;00m(key) \u001b[38;5;28;01mfrom\u001b[39;00m \u001b[38;5;21;01merr\u001b[39;00m\n\u001b[1;32m    416\u001b[0m \u001b[38;5;28;01mif\u001b[39;00m \u001b[38;5;28misinstance\u001b[39m(key, Hashable):\n\u001b[0;32m--> 417\u001b[0m     \u001b[38;5;28;01mraise\u001b[39;00m \u001b[38;5;167;01mKeyError\u001b[39;00m(key)\n\u001b[1;32m    418\u001b[0m \u001b[38;5;28mself\u001b[39m\u001b[38;5;241m.\u001b[39m_check_indexing_error(key)\n\u001b[1;32m    419\u001b[0m \u001b[38;5;28;01mraise\u001b[39;00m \u001b[38;5;167;01mKeyError\u001b[39;00m(key)\n",
      "\u001b[0;31mKeyError\u001b[0m: 'BMR'"
     ]
    }
   ],
   "source": [
    "df.loc['BMR'].mean().to_list()\n",
    "df.columns.to_list()"
   ]
  }
 ],
 "metadata": {
  "kernelspec": {
   "display_name": "deltas",
   "language": "python",
   "name": "python3"
  },
  "language_info": {
   "codemirror_mode": {
    "name": "ipython",
    "version": 3
   },
   "file_extension": ".py",
   "mimetype": "text/x-python",
   "name": "python",
   "nbconvert_exporter": "python",
   "pygments_lexer": "ipython3",
   "version": "3.10.13"
  }
 },
 "nbformat": 4,
 "nbformat_minor": 2
}
