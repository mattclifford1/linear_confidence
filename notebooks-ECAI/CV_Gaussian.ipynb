{
 "cells": [
  {
   "cell_type": "code",
   "execution_count": 2,
   "metadata": {},
   "outputs": [],
   "source": [
    "%load_ext autoreload\n",
    "%autoreload 2\n",
    "\n",
    "from deltas.pipeline import data, classifier, evaluation\n",
    "from deltas.model import base, downsample\n",
    "import deltas.plotting.plots as plots\n",
    "from tqdm import tqdm\n",
    "\n",
    "import numpy as np\n",
    "import pandas as pd\n",
    "# np.random.seed(10)\n"
   ]
  },
  {
   "cell_type": "code",
   "execution_count": 3,
   "metadata": {},
   "outputs": [
    {
     "name": "stderr",
     "output_type": "stream",
     "text": [
      " 80%|████████  | 8/10 [01:08<00:15,  7.68s/it]"
     ]
    },
    {
     "name": "stdout",
     "output_type": "stream",
     "text": [
      "not fit deltas\n"
     ]
    },
    {
     "name": "stderr",
     "output_type": "stream",
     "text": [
      "100%|██████████| 10/10 [01:28<00:00,  8.87s/it]\n"
     ]
    }
   ],
   "source": [
    "\n",
    "N1 = 1000\n",
    "N2 = 10\n",
    "m = 1\n",
    "v = 1\n",
    "costs = (1, 1)  # change for (1, 10) to increase results\n",
    "# Gaussian (not always seperable)\n",
    "dfs = []\n",
    "for i in tqdm(range(10)):\n",
    "    data_clf = data.get_data(\n",
    "        m1=[-m, -m],\n",
    "        m2=[m, m],\n",
    "        cov1=[[v, 0], [0, v]],\n",
    "        cov2=[[v, 0], [0, v]],\n",
    "        N1=N1,\n",
    "        N2=N2,\n",
    "        scale=False\n",
    "    )\n",
    "\n",
    "    model = 'SVM-linear'\n",
    "    model = 'SVM-rbf'\n",
    "    # model = 'Linear'\n",
    "    model = 'MLP'\n",
    "\n",
    "    classifiers_dict = classifier.get_classifier(\n",
    "        data_clf=data_clf,\n",
    "        model=model,\n",
    "        _plot=False)\n",
    "    data_clf['clf'] = classifiers_dict['Baseline']\n",
    "    X = data_clf['data']['X']\n",
    "    y = data_clf['data']['y']\n",
    "    clf = data_clf['clf']\n",
    "    # deltas_model = downsample.downsample_deltas(\n",
    "    #     clf).fit(X, y, _print=True, _plot=True, max_trials=10000)\n",
    "    # deltas_model = base.base_deltas(\n",
    "    #     clf).fit(X, y, grid_search=True, _print=True, _plot=True)\n",
    "    deltas_model = downsample.downsample_deltas(clf).fit(X, y,\n",
    "                                                         alpha=10,\n",
    "                                                         _print=False,\n",
    "                                                         _plot=False,\n",
    "                                                         method='supports-prop-update_mean',\n",
    "                                                         max_trials=10000,\n",
    "                                                         parallel=True)\n",
    "\n",
    "    if deltas_model.is_fit == True:\n",
    "        classifiers_dict['Our Method'] = deltas_model\n",
    "        scores_df = evaluation.eval_test(classifiers_dict,\n",
    "                                         data_clf['data_test'], _print=False, _plot=False)\n",
    "        dfs.append(scores_df)\n",
    "    else:\n",
    "        print('not fit deltas')"
   ]
  },
  {
   "cell_type": "code",
   "execution_count": 4,
   "metadata": {},
   "outputs": [
    {
     "name": "stdout",
     "output_type": "stream",
     "text": [
      "9\n",
      "                  Accuracy    G-Mean  ROC-AUC        F1\n",
      "Method                                                 \n",
      "Baseline           0.74035  0.693960  0.74035  0.650091\n",
      "SMOTE              0.86840  0.865534  0.86840  0.858419\n",
      "Balanced Weights   0.74975  0.709433  0.74975  0.669615\n",
      "BMR                0.82890  0.813468  0.82890  0.796503\n",
      "Threshold          0.82890  0.813468  0.82890  0.796503\n",
      "Our Method         0.89700  0.895409  0.89700  0.891190\n",
      "Baseline           0.58245  0.407207  0.58245  0.284466\n",
      "SMOTE              0.73580  0.709846  0.73580  0.672330\n",
      "Balanced Weights   0.72630  0.677243  0.72630  0.628932\n",
      "BMR                0.83245  0.823350  0.83245  0.809005\n",
      "Threshold          0.83245  0.823350  0.83245  0.809005\n",
      "Our Method         0.86825  0.867530  0.86825  0.863422\n",
      "Baseline           0.76065  0.723162  0.76065  0.686776\n",
      "SMOTE              0.87005  0.865252  0.87005  0.857001\n",
      "Balanced Weights   0.77985  0.751057  0.77985  0.721347\n",
      "BMR                0.90815  0.907890  0.90815  0.906108\n",
      "Threshold          0.90815  0.907890  0.90815  0.906108\n",
      "Our Method         0.87955  0.874146  0.87955  0.866560\n",
      "Baseline           0.56195  0.352616  0.56195  0.221175\n",
      "SMOTE              0.87915  0.877847  0.87915  0.873077\n",
      "Balanced Weights   0.60740  0.473530  0.60740  0.366365\n",
      "BMR                0.91525  0.914862  0.91525  0.917450\n",
      "Threshold          0.91525  0.914862  0.91525  0.917450\n",
      "Our Method         0.91605  0.915699  0.91605  0.918126\n",
      "Baseline           0.67225  0.587443  0.67225  0.513110\n",
      "SMOTE              0.79335  0.776393  0.79335  0.753062\n",
      "Balanced Weights   0.65350  0.557110  0.65350  0.473724\n",
      "BMR                0.90560  0.905453  0.90560  0.907114\n",
      "Threshold          0.90560  0.905453  0.90560  0.907114\n",
      "Our Method         0.83930  0.826309  0.83930  0.811584\n",
      "Baseline           0.60355  0.455170  0.60355  0.343245\n",
      "SMOTE              0.79200  0.772174  0.79200  0.747542\n",
      "Balanced Weights   0.72475  0.674348  0.72475  0.625230\n",
      "BMR                0.91045  0.910251  0.91045  0.908711\n",
      "Threshold          0.91045  0.910251  0.91045  0.908711\n",
      "Our Method         0.88195  0.876974  0.88195  0.869767\n",
      "Baseline           0.69935  0.632044  0.69935  0.570898\n",
      "SMOTE              0.80170  0.780605  0.80170  0.757372\n",
      "Balanced Weights   0.71505  0.658733  0.71505  0.605250\n",
      "BMR                0.88135  0.876307  0.88135  0.869018\n",
      "Threshold          0.88135  0.876307  0.88135  0.869018\n",
      "Our Method         0.90910  0.908211  0.90910  0.905293\n",
      "Baseline           0.79830  0.773534  0.79830  0.748723\n",
      "SMOTE              0.85455  0.844627  0.85455  0.832845\n",
      "Balanced Weights   0.68105  0.605354  0.68105  0.536376\n",
      "BMR                0.87125  0.864233  0.87125  0.855280\n",
      "Threshold          0.87260  0.865853  0.87260  0.857127\n",
      "Our Method         0.89865  0.896123  0.89865  0.891331\n",
      "Baseline           0.60190  0.451707  0.60190  0.338924\n",
      "SMOTE              0.77540  0.748002  0.77540  0.717733\n",
      "Balanced Weights   0.60335  0.456812  0.60335  0.345300\n",
      "BMR                0.72630  0.674967  0.72630  0.625991\n",
      "Threshold          0.72630  0.674967  0.72630  0.625991\n",
      "Our Method         0.87645  0.871400  0.87645  0.863639\n"
     ]
    }
   ],
   "source": [
    "print(len(dfs))"
   ]
  },
  {
   "cell_type": "code",
   "execution_count": 7,
   "metadata": {},
   "outputs": [
    {
     "name": "stdout",
     "output_type": "stream",
     "text": [
      "                  Accuracy    G-Mean   ROC-AUC        F1\n",
      "Baseline          0.668972  0.564094  0.668972  0.484157\n",
      "SMOTE             0.818933  0.804475  0.818933  0.785487\n",
      "Balanced Weights  0.693444  0.618180  0.693444  0.552460\n",
      "BMR               0.864411  0.854531  0.864411  0.843909\n",
      "Threshold         0.864561  0.854711  0.864561  0.844114\n",
      "Our Method        0.885144  0.881311  0.885144  0.875657\n",
      "\\begin{tabular}{@{}lrrrr@{}}\n",
      "\\toprule\n",
      "Methods & Accuracy & G-Mean & ROC-AUC & F1 \\\\\n",
      "\\midrule\n",
      "Baseline & $.668 \\pm .08$ & $.564 \\pm .15$ & $.668 \\pm .08$ & $.484 \\pm .19$ \\\\\n",
      "SMOTE \\cite{Chawla_2002_JAIR} & $.818 \\pm .05$ & $.804 \\pm .06$ & $.818 \\pm .05$ & $.785 \\pm .07$ \\\\\n",
      "BW & $.693 \\pm .06$ & $.618 \\pm .10$ & $.693 \\pm .06$ & $.552 \\pm .13$ \\\\\n",
      "BMR \\cite{Bahnsen_2014_SIAM} & $.864 \\pm .06$ & $.854 \\pm .07$ & $.864 \\pm .06$ & $.843 \\pm .09$ \\\\\n",
      "Thresh \\cite{Sheng_2006_AAAI} & $.864 \\pm .06$ & $.854 \\pm .07$ & $.864 \\pm .06$ & $.844 \\pm .09$ \\\\\n",
      "Our Method & $\\textbf{.885} \\pm .02$ & $\\textbf{.881} \\pm .02$ & $\\textbf{.885} \\pm .02$ & $\\textbf{.875} \\pm .03$ \\\\\n",
      "\\bottomrule\n",
      "\\end{tabular}\n",
      "\n"
     ]
    }
   ],
   "source": [
    "df = pd.concat(dfs, axis=0)\n",
    "mean = {}\n",
    "std = {}\n",
    "index = df.index.unique().to_list()\n",
    "cols = df.columns.to_list()\n",
    "for method in index:\n",
    "    mean[method] = df.loc[method].mean().to_list()\n",
    "    std[method] = df.loc[method].std().to_list()\n",
    "\n",
    "mean_df = pd.DataFrame.from_dict(mean, orient='index', columns=cols)\n",
    "print(mean_df)\n",
    "std_df = pd.DataFrame.from_dict(std, orient='index', columns=cols)\n",
    "\n",
    "m = mean_df.to_dict('list')\n",
    "s = std_df.to_dict('list')\n",
    "metrics = mean_df.columns.to_list()\n",
    "methods = mean_df.index.to_list()\n",
    "sf = 5\n",
    "for metric in metrics:\n",
    "    means = m[metric]\n",
    "    sts = s[metric]\n",
    "    mx = np.argmax(means)\n",
    "    for i in range(len(means)):\n",
    "        m_str = str(means[i])[1:sf]\n",
    "        if i == mx:\n",
    "            m_str = f\"\\\\textbf{{{m_str}}}\"\n",
    "        s_str = str(sts[i])[1:sf-1]\n",
    "        m[metric][i] = f'${m_str} \\\\pm {s_str}$'\n",
    "\n",
    "method_map = {\n",
    "    'Baseline': 'Baseline',\n",
    "    'SMOTE': \"SMOTE \\cite{Chawla_2002_JAIR}\",\n",
    "    'Balanced Weights': 'BW',\n",
    "    'BMR': 'BMR \\cite{Bahnsen_2014_SIAM}',\n",
    "    'Threshold': 'Thresh \\cite{Sheng_2006_AAAI}',\n",
    "    'Our Method': 'Our Method',\n",
    "}\n",
    "meths_new = []\n",
    "for me in methods:\n",
    "    meths_new.append(method_map[me])\n",
    "m['Methods'] = meths_new\n",
    "df = pd.DataFrame(m)  # .set_index('Methods')\n",
    "meths = df.pop('Methods')\n",
    "df.insert(0, 'Methods', meths)\n",
    "latex_str = df.to_latex(index=False)\n",
    "\n",
    "print('\\\\begin{tabular}{@{}lrrrr@{}}'+latex_str[22:])"
   ]
  },
  {
   "cell_type": "code",
   "execution_count": 6,
   "metadata": {},
   "outputs": [
    {
     "ename": "KeyError",
     "evalue": "'BMR'",
     "output_type": "error",
     "traceback": [
      "\u001b[0;31m---------------------------------------------------------------------------\u001b[0m",
      "\u001b[0;31mKeyError\u001b[0m                                  Traceback (most recent call last)",
      "Cell \u001b[0;32mIn[6], line 1\u001b[0m\n\u001b[0;32m----> 1\u001b[0m \u001b[43mdf\u001b[49m\u001b[38;5;241;43m.\u001b[39;49m\u001b[43mloc\u001b[49m\u001b[43m[\u001b[49m\u001b[38;5;124;43m'\u001b[39;49m\u001b[38;5;124;43mBMR\u001b[39;49m\u001b[38;5;124;43m'\u001b[39;49m\u001b[43m]\u001b[49m\u001b[38;5;241m.\u001b[39mmean()\u001b[38;5;241m.\u001b[39mto_list()\n\u001b[1;32m      2\u001b[0m df\u001b[38;5;241m.\u001b[39mcolumns\u001b[38;5;241m.\u001b[39mto_list()\n",
      "File \u001b[0;32m~/anaconda3/envs/deltas/lib/python3.10/site-packages/pandas/core/indexing.py:1191\u001b[0m, in \u001b[0;36m_LocationIndexer.__getitem__\u001b[0;34m(self, key)\u001b[0m\n\u001b[1;32m   1189\u001b[0m maybe_callable \u001b[38;5;241m=\u001b[39m com\u001b[38;5;241m.\u001b[39mapply_if_callable(key, \u001b[38;5;28mself\u001b[39m\u001b[38;5;241m.\u001b[39mobj)\n\u001b[1;32m   1190\u001b[0m maybe_callable \u001b[38;5;241m=\u001b[39m \u001b[38;5;28mself\u001b[39m\u001b[38;5;241m.\u001b[39m_check_deprecated_callable_usage(key, maybe_callable)\n\u001b[0;32m-> 1191\u001b[0m \u001b[38;5;28;01mreturn\u001b[39;00m \u001b[38;5;28;43mself\u001b[39;49m\u001b[38;5;241;43m.\u001b[39;49m\u001b[43m_getitem_axis\u001b[49m\u001b[43m(\u001b[49m\u001b[43mmaybe_callable\u001b[49m\u001b[43m,\u001b[49m\u001b[43m \u001b[49m\u001b[43maxis\u001b[49m\u001b[38;5;241;43m=\u001b[39;49m\u001b[43maxis\u001b[49m\u001b[43m)\u001b[49m\n",
      "File \u001b[0;32m~/anaconda3/envs/deltas/lib/python3.10/site-packages/pandas/core/indexing.py:1431\u001b[0m, in \u001b[0;36m_LocIndexer._getitem_axis\u001b[0;34m(self, key, axis)\u001b[0m\n\u001b[1;32m   1429\u001b[0m \u001b[38;5;66;03m# fall thru to straight lookup\u001b[39;00m\n\u001b[1;32m   1430\u001b[0m \u001b[38;5;28mself\u001b[39m\u001b[38;5;241m.\u001b[39m_validate_key(key, axis)\n\u001b[0;32m-> 1431\u001b[0m \u001b[38;5;28;01mreturn\u001b[39;00m \u001b[38;5;28;43mself\u001b[39;49m\u001b[38;5;241;43m.\u001b[39;49m\u001b[43m_get_label\u001b[49m\u001b[43m(\u001b[49m\u001b[43mkey\u001b[49m\u001b[43m,\u001b[49m\u001b[43m \u001b[49m\u001b[43maxis\u001b[49m\u001b[38;5;241;43m=\u001b[39;49m\u001b[43maxis\u001b[49m\u001b[43m)\u001b[49m\n",
      "File \u001b[0;32m~/anaconda3/envs/deltas/lib/python3.10/site-packages/pandas/core/indexing.py:1381\u001b[0m, in \u001b[0;36m_LocIndexer._get_label\u001b[0;34m(self, label, axis)\u001b[0m\n\u001b[1;32m   1379\u001b[0m \u001b[38;5;28;01mdef\u001b[39;00m \u001b[38;5;21m_get_label\u001b[39m(\u001b[38;5;28mself\u001b[39m, label, axis: AxisInt):\n\u001b[1;32m   1380\u001b[0m     \u001b[38;5;66;03m# GH#5567 this will fail if the label is not present in the axis.\u001b[39;00m\n\u001b[0;32m-> 1381\u001b[0m     \u001b[38;5;28;01mreturn\u001b[39;00m \u001b[38;5;28;43mself\u001b[39;49m\u001b[38;5;241;43m.\u001b[39;49m\u001b[43mobj\u001b[49m\u001b[38;5;241;43m.\u001b[39;49m\u001b[43mxs\u001b[49m\u001b[43m(\u001b[49m\u001b[43mlabel\u001b[49m\u001b[43m,\u001b[49m\u001b[43m \u001b[49m\u001b[43maxis\u001b[49m\u001b[38;5;241;43m=\u001b[39;49m\u001b[43maxis\u001b[49m\u001b[43m)\u001b[49m\n",
      "File \u001b[0;32m~/anaconda3/envs/deltas/lib/python3.10/site-packages/pandas/core/generic.py:4298\u001b[0m, in \u001b[0;36mNDFrame.xs\u001b[0;34m(self, key, axis, level, drop_level)\u001b[0m\n\u001b[1;32m   4296\u001b[0m             new_index \u001b[38;5;241m=\u001b[39m index[loc]\n\u001b[1;32m   4297\u001b[0m \u001b[38;5;28;01melse\u001b[39;00m:\n\u001b[0;32m-> 4298\u001b[0m     loc \u001b[38;5;241m=\u001b[39m \u001b[43mindex\u001b[49m\u001b[38;5;241;43m.\u001b[39;49m\u001b[43mget_loc\u001b[49m\u001b[43m(\u001b[49m\u001b[43mkey\u001b[49m\u001b[43m)\u001b[49m\n\u001b[1;32m   4300\u001b[0m     \u001b[38;5;28;01mif\u001b[39;00m \u001b[38;5;28misinstance\u001b[39m(loc, np\u001b[38;5;241m.\u001b[39mndarray):\n\u001b[1;32m   4301\u001b[0m         \u001b[38;5;28;01mif\u001b[39;00m loc\u001b[38;5;241m.\u001b[39mdtype \u001b[38;5;241m==\u001b[39m np\u001b[38;5;241m.\u001b[39mbool_:\n",
      "File \u001b[0;32m~/anaconda3/envs/deltas/lib/python3.10/site-packages/pandas/core/indexes/range.py:417\u001b[0m, in \u001b[0;36mRangeIndex.get_loc\u001b[0;34m(self, key)\u001b[0m\n\u001b[1;32m    415\u001b[0m         \u001b[38;5;28;01mraise\u001b[39;00m \u001b[38;5;167;01mKeyError\u001b[39;00m(key) \u001b[38;5;28;01mfrom\u001b[39;00m \u001b[38;5;21;01merr\u001b[39;00m\n\u001b[1;32m    416\u001b[0m \u001b[38;5;28;01mif\u001b[39;00m \u001b[38;5;28misinstance\u001b[39m(key, Hashable):\n\u001b[0;32m--> 417\u001b[0m     \u001b[38;5;28;01mraise\u001b[39;00m \u001b[38;5;167;01mKeyError\u001b[39;00m(key)\n\u001b[1;32m    418\u001b[0m \u001b[38;5;28mself\u001b[39m\u001b[38;5;241m.\u001b[39m_check_indexing_error(key)\n\u001b[1;32m    419\u001b[0m \u001b[38;5;28;01mraise\u001b[39;00m \u001b[38;5;167;01mKeyError\u001b[39;00m(key)\n",
      "\u001b[0;31mKeyError\u001b[0m: 'BMR'"
     ]
    }
   ],
   "source": [
    "df.loc['BMR'].mean().to_list()\n",
    "df.columns.to_list()"
   ]
  }
 ],
 "metadata": {
  "kernelspec": {
   "display_name": "deltas",
   "language": "python",
   "name": "python3"
  },
  "language_info": {
   "codemirror_mode": {
    "name": "ipython",
    "version": 3
   },
   "file_extension": ".py",
   "mimetype": "text/x-python",
   "name": "python",
   "nbconvert_exporter": "python",
   "pygments_lexer": "ipython3",
   "version": "3.10.13"
  }
 },
 "nbformat": 4,
 "nbformat_minor": 2
}
