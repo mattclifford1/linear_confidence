{
 "cells": [
  {
   "cell_type": "code",
   "execution_count": 1,
   "metadata": {},
   "outputs": [],
   "source": [
    "%load_ext autoreload\n",
    "%autoreload 2\n",
    "from datetime import datetime\n",
    "\n",
    "from deltas.pipeline import data, classifier, evaluation\n",
    "from deltas.model import base, downsample\n",
    "import deltas.plotting.plots as plots\n",
    "from tqdm import tqdm\n",
    "\n",
    "import numpy as np\n",
    "import pandas as pd\n",
    "# np.random.seed(10)\n"
   ]
  },
  {
   "cell_type": "code",
   "execution_count": 2,
   "metadata": {},
   "outputs": [
    {
     "name": "stderr",
     "output_type": "stream",
     "text": [
      "  9%|▉         | 9/100 [02:35<26:14, 17.30s/it]  \n"
     ]
    }
   ],
   "source": [
    "\n",
    "N1 = 1000\n",
    "N2 = 10\n",
    "m = 1\n",
    "v = 1\n",
    "costs = (1, 1)  # change for (1, 10) to increase results\n",
    "# Gaussian (not always seperable)\n",
    "dfs = []\n",
    "len_required = 10\n",
    "for i in tqdm(range(len_required*10)):\n",
    "    data_clf = data.get_data(\n",
    "        m1=[-m, -m],\n",
    "        m2=[m, m],\n",
    "        cov1=[[v, 0], [0, v]],\n",
    "        cov2=[[v, 0], [0, v]],\n",
    "        N1=N1,\n",
    "        N2=N2,\n",
    "        scale=False,\n",
    "        test_nums=[10000, 10000],\n",
    "    )\n",
    "\n",
    "    model = 'SVM-linear'\n",
    "    model = 'SVM-rbf'\n",
    "    # model = 'Linear'\n",
    "    model = 'MLP'\n",
    "    # model = 'MLP-Gaussian'\n",
    "\n",
    "    classifiers_dict = classifier.get_classifier(\n",
    "        data_clf=data_clf,\n",
    "        model=model,\n",
    "        _plot=False)\n",
    "    data_clf['clf'] = classifiers_dict['Baseline']\n",
    "    X = data_clf['data']['X']\n",
    "    y = data_clf['data']['y']\n",
    "    clf = data_clf['clf']\n",
    "    # deltas_model = downsample.downsample_deltas(\n",
    "    #     clf).fit(X, y, _print=True, _plot=True, max_trials=10000)\n",
    "    # deltas_model = base.base_deltas(\n",
    "    #     clf).fit(X, y, grid_search=True, _print=True, _plot=True)\n",
    "    deltas_model = downsample.downsample_deltas(clf).fit(X, y,\n",
    "                                                         alpha=1,\n",
    "                                                         _print=False,\n",
    "                                                         _plot=False,\n",
    "                                                         method='supports-prop-update_mean',\n",
    "                                                         max_trials=10000,\n",
    "                                                         parallel=True)\n",
    "\n",
    "    if deltas_model.is_fit == True:\n",
    "        classifiers_dict['Our Method'] = deltas_model\n",
    "        scores_df = evaluation.eval_test(classifiers_dict,\n",
    "                                         data_clf['data_test'], _print=False, _plot=False)\n",
    "        dfs.append(scores_df)\n",
    "    else:\n",
    "        print('not fit deltas')\n",
    "    if len(dfs) == len_required:\n",
    "        break"
   ]
  },
  {
   "cell_type": "code",
   "execution_count": 3,
   "metadata": {},
   "outputs": [
    {
     "name": "stdout",
     "output_type": "stream",
     "text": [
      "10\n"
     ]
    }
   ],
   "source": [
    "print(len(dfs))"
   ]
  },
  {
   "cell_type": "code",
   "execution_count": 4,
   "metadata": {},
   "outputs": [
    {
     "name": "stdout",
     "output_type": "stream",
     "text": [
      "                  Accuracy    G-Mean   ROC-AUC        F1\n",
      "Baseline          0.501850  0.032655  0.974174  0.007300\n",
      "SMOTE             0.905435  0.903718  0.975846  0.900115\n",
      "Balanced Weights  0.626035  0.400038  0.943593  0.324821\n",
      "BMR               0.879305  0.872430  0.974174  0.865805\n",
      "Threshold         0.879305  0.872430  0.974174  0.865805\n",
      "Our Method        0.909740  0.908789  0.974174  0.907456\n",
      "\n",
      "% Gaussian - 10\n",
      "\\begin{tabular}{@{}lrrrr@{}}\n",
      "\\toprule\n",
      "Methods & Accuracy & G-Mean & ROC-AUC & F1 \\\\\n",
      "\\midrule\n",
      "Baseline & $.501 \\pm .00$ & $.032 \\pm .05$ & $.974 \\pm .00$ & $.007 \\pm .01$ \\\\\n",
      "SMOTE \\cite{Chawla_2002_JAIR} & $.905 \\pm .01$ & $.903 \\pm .01$ & $\\textbf{.975} \\pm .00$ & $.900 \\pm .01$ \\\\\n",
      "BW & $.626 \\pm .15$ & $.400 \\pm .32$ & $.943 \\pm .05$ & $.324 \\pm .35$ \\\\\n",
      "BMR \\cite{Bahnsen_2014_SIAM} & $.879 \\pm .04$ & $.872 \\pm .05$ & $.974 \\pm .00$ & $.865 \\pm .06$ \\\\\n",
      "Thresh \\cite{Sheng_2006_AAAI} & $.879 \\pm .04$ & $.872 \\pm .05$ & $.974 \\pm .00$ & $.865 \\pm .06$ \\\\\n",
      "Our Method & $\\textbf{.909} \\pm .00$ & $\\textbf{.908} \\pm .00$ & $.974 \\pm .00$ & $\\textbf{.907} \\pm .01$ \\\\\n",
      "\\bottomrule\n",
      "\\end{tabular}\n",
      "\n"
     ]
    }
   ],
   "source": [
    "df = pd.concat(dfs, axis=0)\n",
    "mean = {}\n",
    "std = {}\n",
    "index = df.index.unique().to_list()\n",
    "cols = df.columns.to_list()\n",
    "for method in index:\n",
    "    mean[method] = df.loc[method].mean().to_list()\n",
    "    std[method] = df.loc[method].std().to_list()\n",
    "\n",
    "mean_df = pd.DataFrame.from_dict(mean, orient='index', columns=cols)\n",
    "print(mean_df)\n",
    "std_df = pd.DataFrame.from_dict(std, orient='index', columns=cols)\n",
    "\n",
    "m = mean_df.to_dict('list')\n",
    "s = std_df.to_dict('list')\n",
    "metrics = mean_df.columns.to_list()\n",
    "methods = mean_df.index.to_list()\n",
    "sf = 5\n",
    "for metric in metrics:\n",
    "    means = m[metric]\n",
    "    sts = s[metric]\n",
    "    mx = np.argmax(means)\n",
    "    for i in range(len(means)):\n",
    "        m_str = str(means[i])[1:sf]\n",
    "        if i == mx:\n",
    "            m_str = f\"\\\\textbf{{{m_str}}}\"\n",
    "        s_str = str(sts[i])[1:sf-1]\n",
    "        m[metric][i] = f'${m_str} \\\\pm {s_str}$'\n",
    "\n",
    "method_map = {\n",
    "    'Baseline': 'Baseline',\n",
    "    'SMOTE': \"SMOTE \\cite{Chawla_2002_JAIR}\",\n",
    "    'Balanced Weights': 'BW',\n",
    "    'BMR': 'BMR \\cite{Bahnsen_2014_SIAM}',\n",
    "    'Threshold': 'Thresh \\cite{Sheng_2006_AAAI}',\n",
    "    'Our Method': 'Our Method',\n",
    "}\n",
    "meths_new = []\n",
    "for me in methods:\n",
    "    meths_new.append(method_map[me])\n",
    "m['Methods'] = meths_new\n",
    "df = pd.DataFrame(m)  # .set_index('Methods')\n",
    "meths = df.pop('Methods')\n",
    "df.insert(0, 'Methods', meths)\n",
    "latex_str = df.to_latex(index=False)\n",
    "\n",
    "print(f'\\n% Gaussian - {len_required}')\n",
    "print('\\\\begin{tabular}{@{}lrrrr@{}}'+latex_str[22:])"
   ]
  },
  {
   "cell_type": "code",
   "execution_count": 6,
   "metadata": {},
   "outputs": [],
   "source": [
    "now = datetime.now()\n",
    "with open(f\"Results-Gaussian.txt\", \"w\") as text_file:\n",
    "    dt_string = now.strftime(\"%d/%m/%Y %H:%M:%S\")\n",
    "    text_file.write(dt_string)\n",
    "    text_file.write(f'\\n% Gaussian - {len_required}')\n",
    "    text_file.write('\\\\begin{tabular}{@{}lrrrr@{}}'+latex_str[22:])"
   ]
  }
 ],
 "metadata": {
  "kernelspec": {
   "display_name": "deltas",
   "language": "python",
   "name": "python3"
  },
  "language_info": {
   "codemirror_mode": {
    "name": "ipython",
    "version": 3
   },
   "file_extension": ".py",
   "mimetype": "text/x-python",
   "name": "python",
   "nbconvert_exporter": "python",
   "pygments_lexer": "ipython3",
   "version": "3.10.13"
  }
 },
 "nbformat": 4,
 "nbformat_minor": 2
}
