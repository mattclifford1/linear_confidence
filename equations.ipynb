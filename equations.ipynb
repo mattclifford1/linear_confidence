{
 "cells": [
  {
   "cell_type": "code",
   "execution_count": 1,
   "metadata": {},
   "outputs": [],
   "source": [
    "%load_ext autoreload\n",
    "%autoreload 2\n",
    "import numpy as np\n",
    "import ipywidgets\n",
    "import matplotlib.pyplot as plt\n",
    "# plt.rcParams['text.usetex'] = True\n",
    "import deltas"
   ]
  },
  {
   "cell_type": "markdown",
   "metadata": {},
   "source": [
    "# Cost Function"
   ]
  },
  {
   "cell_type": "code",
   "execution_count": 2,
   "metadata": {},
   "outputs": [
    {
     "data": {
      "application/vnd.jupyter.widget-view+json": {
       "model_id": "702ac634895e476ebdd9142c3a483287",
       "version_major": 2,
       "version_minor": 0
      },
      "text/plain": [
       "interactive(children=(FloatSlider(value=0.5, description='delta1', max=1.0), FloatSlider(value=0.5, descriptio…"
      ]
     },
     "metadata": {},
     "output_type": "display_data"
    }
   ],
   "source": [
    "lims = {\n",
    "    'delta1': [0, 1],\n",
    "    'delta2': [0, 1],\n",
    "    'c1': [0, 10],\n",
    "    'c2': [0, 10],\n",
    "    'N1': [1, 100],\n",
    "    'N2': [1, 100],\n",
    "}\n",
    "\n",
    "@ipywidgets.interact_manual(\n",
    "          plot_against=list(lims.keys()),\n",
    "          delta1=(0., 1.),\n",
    "          delta2=(0., 1.),\n",
    "          c1=(0, 10),\n",
    "          c2=(0, 10),\n",
    "          N1=(1, 300),\n",
    "          N2=(1, 300),\n",
    ")\n",
    "def plot(delta1=0.5, \n",
    "         delta2=0.5, \n",
    "         c1=1., \n",
    "         c2=1., \n",
    "         N1=100, \n",
    "         N2=100,\n",
    "         plot_against='delta1'):\n",
    "    vars = {\n",
    "        'delta1': delta1,\n",
    "        'delta2': delta2,\n",
    "        'c1': c1,\n",
    "        'c2': c2,\n",
    "        'N1': N1,\n",
    "        'N2': N2,\n",
    "    }\n",
    "    vars[plot_against] = np.linspace(lims[plot_against][0], lims[plot_against][1], 100)\n",
    "    _, ax = plt.subplots(1, 1, figsize=(8, 6))\n",
    "\n",
    "    J = deltas.loss(c1=vars['c1'], c2=vars['c2'], delta1=vars['delta1'], delta2=vars['delta2'], N1=vars['N1'], N2=vars['N2'])\n",
    "\n",
    "    ax.plot(vars[plot_against], J)\n",
    "    ax.set_ylabel('Cost J')\n",
    "    ax.set_xlabel(plot_against)\n",
    "    ax.set_title(\n",
    "        r\"\"\"Eq. 6: $ \\text{J} = \\sum_{i=1,2} C_i \\left( (1-\\delta_i) \\frac{1}{N_i + 1}+\\delta_i \\right )  $\"\"\")"
   ]
  },
  {
   "cell_type": "markdown",
   "metadata": {},
   "source": [
    "# Cost one delta"
   ]
  },
  {
   "cell_type": "code",
   "execution_count": 10,
   "metadata": {},
   "outputs": [
    {
     "data": {
      "application/vnd.jupyter.widget-view+json": {
       "model_id": "958ec0c2324548bca25a0185dfec5807",
       "version_major": 2,
       "version_minor": 0
      },
      "text/plain": [
       "interactive(children=(FloatSlider(value=0.5, description='delta1', max=1.0), IntSlider(value=1, description='c…"
      ]
     },
     "metadata": {},
     "output_type": "display_data"
    }
   ],
   "source": [
    "lims = {\n",
    "    'delta1': [0.000000000001, 0.99999999999999999],\n",
    "    'c1': [0, 10],\n",
    "    'c2': [0, 10],\n",
    "    'N1': [1, 100],\n",
    "    'N2': [1, 100],\n",
    "    'R':  [0.1, 3],\n",
    "    'M':  [0, 2],\n",
    "}\n",
    "\n",
    "@ipywidgets.interact_manual(\n",
    "          plot_against=list(lims.keys()),\n",
    "          delta1=(0., 1.),\n",
    "          c1=(0, 10),\n",
    "          c2=(0, 10),\n",
    "          N1=(1, 1000),\n",
    "          N2=(1, 1000),\n",
    "          R=(0.1, 3.),\n",
    "          M=(0., 2.),\n",
    ")\n",
    "def plot(delta1=0.5, \n",
    "         c1=1., \n",
    "         c2=1., \n",
    "         N1=100, \n",
    "         N2=100,\n",
    "         R=1,\n",
    "         M=0.5,\n",
    "         plot_against='delta1'):\n",
    "    vars = {\n",
    "        'delta1': delta1,\n",
    "        'c1': c1,\n",
    "        'c2': c2,\n",
    "        'N1': N1,\n",
    "        'N2': N2,\n",
    "        'R': R,\n",
    "        'M': M,\n",
    "    }\n",
    "    vars[plot_against] = np.linspace(lims[plot_against][0], lims[plot_against][1], 100)\n",
    "    \n",
    "    _, ax = plt.subplots(1, 1, figsize=(8, 6))\n",
    "    J = deltas.loss_one_delta(c1=vars['c1'], c2=vars['c2'], delta1=vars['delta1'], N1=vars['N1'], N2=vars['N2'], M_emp=vars['M'], R=vars['R'])\n",
    "    ax.plot(vars[plot_against], J)\n",
    "    ax.set_ylabel('Cost J from delta1 Dario')\n",
    "    ax.set_xlabel(plot_against)\n",
    "\n",
    "    _, ax = plt.subplots(1, 1, figsize=(8, 6))\n",
    "    J = deltas.loss_one_delta_matt(c1=vars['c1'], c2=vars['c2'], delta1=vars['delta1'], N1=vars['N1'], N2=vars['N2'], M_emp=vars['M'], R=vars['R'])\n",
    "    ax.plot(vars[plot_against], J)\n",
    "    ax.set_ylabel('Cost J from delta1 Matt')\n",
    "    ax.set_xlabel(plot_against)"
   ]
  },
  {
   "cell_type": "markdown",
   "metadata": {},
   "source": [
    "# Eq. 9 - delta2 from delta1"
   ]
  },
  {
   "cell_type": "code",
   "execution_count": 7,
   "metadata": {},
   "outputs": [
    {
     "data": {
      "application/vnd.jupyter.widget-view+json": {
       "model_id": "fd6ffd54d569458b802103a3cc4c1a0f",
       "version_major": 2,
       "version_minor": 0
      },
      "text/plain": [
       "interactive(children=(FloatSlider(value=0.5, description='delta1', max=1.0), IntSlider(value=100, description=…"
      ]
     },
     "metadata": {},
     "output_type": "display_data"
    }
   ],
   "source": [
    "lims = {\n",
    "    'delta1': [0.000000000001, 0.99999999999999999],\n",
    "    'N1': [1, 100],\n",
    "    'N2': [1, 100],\n",
    "    'R': [1, 20],\n",
    "    'M_emp': [1, 20],\n",
    "}\n",
    "\n",
    "@ipywidgets.interact_manual(\n",
    "          plot_against=list(lims.keys()),\n",
    "          delta1=(0., 1.),\n",
    "          N1=(1, 300),\n",
    "          N2=(1, 300),\n",
    "          R=(0.1, 20.),\n",
    "          M_emp=(0.0, 20.)\n",
    ")\n",
    "def plot(delta1=0.5, \n",
    "         N1=100, \n",
    "         N2=100,\n",
    "         R=20,\n",
    "         M_emp=1,\n",
    "         plot_against='delta1'):\n",
    "    vars = {\n",
    "        'delta1': delta1,\n",
    "        'N1': N1,\n",
    "        'N2': N2,\n",
    "        'R': R,\n",
    "        'M_emp': M_emp,\n",
    "    }\n",
    "    vars[plot_against] = np.linspace(lims[plot_against][0], lims[plot_against][1], 100)\n",
    "    \n",
    "    _, ax = plt.subplots(1, 1, figsize=(8, 6))\n",
    "    delta2 = deltas.delta2_given_delta1(vars['N1'], vars['N2'], vars['M_emp'], vars['delta1'], vars['R'])\n",
    "    ax.plot(vars[plot_against], delta2)\n",
    "    ax.set_ylabel('delta2')\n",
    "    ax.set_xlabel(plot_against)\n",
    "    ax.set_title(\n",
    "        r\"\"\"Eq. 9: $\\delta_2 = \\exp \\left(   -\\frac{N_2}{2} \\left( \\frac{\\hat{M}}{2R} -2\\left(\\sqrt{\\frac{1}{N_1}+\\frac{1}{N_2}}\\right)- \\sqrt{ \\frac{ 2\\ln(\\frac{1}{\\delta_1}) }{N_1} } \\right)^2 \\right) $\"\"\")\n",
    "    \n",
    "    _, ax = plt.subplots(1, 1, figsize=(8, 6))\n",
    "    delta2 = deltas.delta2_given_delta1_matt(vars['N1'], vars['N2'], vars['M_emp'], vars['delta1'], vars['R'])\n",
    "    ax.plot(vars[plot_against], delta2)\n",
    "    ax.set_ylabel('delta2')\n",
    "    ax.set_xlabel(plot_against)\n",
    "    ax.set_title('Matt')\n",
    "    \n",
    "    _, ax = plt.subplots(1, 1, figsize=(8, 6))\n",
    "    delta2 = deltas.delta2_given_delta1_wolf(vars['N1'], vars['N2'], vars['M_emp'], vars['delta1'], vars['R'])\n",
    "    ax.plot(vars[plot_against], delta2)\n",
    "    ax.set_ylabel('delta2')\n",
    "    ax.set_xlabel(plot_against)\n",
    "    ax.set_title('Wolfram')"
   ]
  }
 ],
 "metadata": {
  "kernelspec": {
   "display_name": "Python 3 (ipykernel)",
   "language": "python",
   "name": "python3"
  },
  "language_info": {
   "codemirror_mode": {
    "name": "ipython",
    "version": 3
   },
   "file_extension": ".py",
   "mimetype": "text/x-python",
   "name": "python",
   "nbconvert_exporter": "python",
   "pygments_lexer": "ipython3",
   "version": "3.10.13"
  }
 },
 "nbformat": 4,
 "nbformat_minor": 4
}
