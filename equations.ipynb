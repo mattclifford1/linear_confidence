{
 "cells": [
  {
   "cell_type": "code",
   "execution_count": 4,
   "metadata": {},
   "outputs": [
    {
     "name": "stdout",
     "output_type": "stream",
     "text": [
      "The autoreload extension is already loaded. To reload it, use:\n",
      "  %reload_ext autoreload\n"
     ]
    }
   ],
   "source": [
    "%load_ext autoreload\n",
    "%autoreload 2\n",
    "import numpy as np\n",
    "import ipywidgets\n",
    "import matplotlib.pyplot as plt"
   ]
  },
  {
   "cell_type": "markdown",
   "metadata": {},
   "source": [
    "# Cost Function"
   ]
  },
  {
   "cell_type": "code",
   "execution_count": 5,
   "metadata": {},
   "outputs": [
    {
     "data": {
      "application/vnd.jupyter.widget-view+json": {
       "model_id": "d5ec825e3a71436581532cecd375840c",
       "version_major": 2,
       "version_minor": 0
      },
      "text/plain": [
       "interactive(children=(FloatSlider(value=0.5, description='delta1', max=1.0), FloatSlider(value=0.5, descriptio…"
      ]
     },
     "metadata": {},
     "output_type": "display_data"
    }
   ],
   "source": [
    "def class_cost(c=1, delta=0.5, N=100):\n",
    "    return c*((1-delta)*(1/(N+1)) + delta)\n",
    "\n",
    "lims = {\n",
    "    'delta1': [0, 1],\n",
    "    'delta2': [0, 1],\n",
    "    'c1': [0, 10],\n",
    "    'c2': [0, 10],\n",
    "    'N1': [1, 100],\n",
    "    'N2': [1, 100],\n",
    "}\n",
    "\n",
    "@ipywidgets.interact_manual(\n",
    "          plot_against=list(lims.keys()),\n",
    "          delta1=(0., 1.),\n",
    "          delta2=(0., 1.),\n",
    "          c1=(0, 10),\n",
    "          c2=(0, 10),\n",
    "          N1=(1, 300),\n",
    "          N2=(1, 300),\n",
    ")\n",
    "def plot(delta1=0.5, \n",
    "         delta2=0.5, \n",
    "         c1=1., \n",
    "         c2=1., \n",
    "         N1=100, \n",
    "         N2=100,\n",
    "         plot_against='delta2'):\n",
    "    vars = {\n",
    "        'delta1': delta1,\n",
    "        'delta2': delta2,\n",
    "        'c1': c1,\n",
    "        'c2': c2,\n",
    "        'N1': N1,\n",
    "        'N2': N2,\n",
    "    }\n",
    "    vars[plot_against] = np.linspace(lims[plot_against][0], lims[plot_against][1], 100)\n",
    "    _, ax = plt.subplots(1, 1, figsize=(8, 6))\n",
    "    J = class_cost(vars['c1'], vars['delta1'], vars['N1']) + class_cost(vars['c2'], vars['delta2'], vars['N2'])\n",
    "    ax.plot(vars[plot_against], J)\n",
    "    ax.set_ylabel('Cost J')\n",
    "    ax.set_xlabel(plot_against)"
   ]
  },
  {
   "cell_type": "markdown",
   "metadata": {},
   "source": [
    "# Eq. 9 - delta2 from delta1"
   ]
  },
  {
   "cell_type": "code",
   "execution_count": 6,
   "metadata": {},
   "outputs": [
    {
     "data": {
      "application/vnd.jupyter.widget-view+json": {
       "model_id": "73fb8f1e39d2410ea9fe6c0b11abc253",
       "version_major": 2,
       "version_minor": 0
      },
      "text/plain": [
       "interactive(children=(FloatSlider(value=0.5, description='delta1', max=1.0), IntSlider(value=100, description=…"
      ]
     },
     "metadata": {},
     "output_type": "display_data"
    }
   ],
   "source": [
    "import deltas\n",
    "\n",
    "lims = {\n",
    "    'delta1': [0, 1],\n",
    "    'N1': [1, 100],\n",
    "    'N2': [1, 100],\n",
    "    'R': [1, 20],\n",
    "    'M_emp': [1, 20],\n",
    "}\n",
    "\n",
    "@ipywidgets.interact_manual(\n",
    "          plot_against=list(lims.keys()),\n",
    "          delta1=(0., 1.),\n",
    "          N1=(1, 300),\n",
    "          N2=(1, 300),\n",
    "          R=(0.1, 20.),\n",
    "          M_emp=(0.0, 20.)\n",
    ")\n",
    "def plot(delta1=0.5, \n",
    "         N1=100, \n",
    "         N2=100,\n",
    "         R=20,\n",
    "         M_emp=1,\n",
    "         plot_against='delta1'):\n",
    "    vars = {\n",
    "        'delta1': delta1,\n",
    "        'N1': N1,\n",
    "        'N2': N2,\n",
    "        'R': R,\n",
    "        'M_emp': M_emp,\n",
    "    }\n",
    "    vars[plot_against] = np.linspace(lims[plot_against][0], lims[plot_against][1], 100)\n",
    "    _, ax = plt.subplots(1, 1, figsize=(8, 6))\n",
    "    \n",
    "    delta2 = deltas.delta2_given_delta1(vars['N1'], vars['N2'], vars['M_emp'], vars['delta1'], vars['R'])\n",
    "    ax.plot(vars[plot_against], delta2)\n",
    "    ax.set_ylabel('delta2')\n",
    "    ax.set_xlabel(plot_against)"
   ]
  }
 ],
 "metadata": {
  "kernelspec": {
   "display_name": "Python 3 (ipykernel)",
   "language": "python",
   "name": "python3"
  },
  "language_info": {
   "codemirror_mode": {
    "name": "ipython",
    "version": 3
   },
   "file_extension": ".py",
   "mimetype": "text/x-python",
   "name": "python",
   "nbconvert_exporter": "python",
   "pygments_lexer": "ipython3",
   "version": "3.10.13"
  }
 },
 "nbformat": 4,
 "nbformat_minor": 4
}
