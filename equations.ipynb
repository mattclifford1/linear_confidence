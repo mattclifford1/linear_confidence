{
 "cells": [
  {
   "cell_type": "code",
   "execution_count": 1,
   "metadata": {},
   "outputs": [],
   "source": [
    "%load_ext autoreload\n",
    "%autoreload 2\n",
    "import numpy as np\n",
    "import ipywidgets\n",
    "import matplotlib.pyplot as plt\n",
    "# plt.rcParams['text.usetex'] = True\n",
    "import pipeline\n",
    "import deltas\n",
    "import plots\n",
    "import radius"
   ]
  },
  {
   "cell_type": "markdown",
   "metadata": {},
   "source": [
    "# play with deltas on data"
   ]
  },
  {
   "cell_type": "code",
   "execution_count": 2,
   "metadata": {},
   "outputs": [
    {
     "ename": "AttributeError",
     "evalue": "module 'pipeline' has no attribute 'get_data_and_classifier'",
     "output_type": "error",
     "traceback": [
      "\u001b[0;31m---------------------------------------------------------------------------\u001b[0m",
      "\u001b[0;31mAttributeError\u001b[0m                            Traceback (most recent call last)",
      "Cell \u001b[0;32mIn[2], line 3\u001b[0m\n\u001b[1;32m      1\u001b[0m N1 \u001b[38;5;241m=\u001b[39m \u001b[38;5;241m100\u001b[39m\n\u001b[1;32m      2\u001b[0m N2 \u001b[38;5;241m=\u001b[39m \u001b[38;5;241m100\u001b[39m\n\u001b[0;32m----> 3\u001b[0m data_clf \u001b[38;5;241m=\u001b[39m \u001b[43mpipeline\u001b[49m\u001b[38;5;241;43m.\u001b[39;49m\u001b[43mget_data_and_classifier\u001b[49m(N1\u001b[38;5;241m=\u001b[39mN1, N2\u001b[38;5;241m=\u001b[39mN2, _plot\u001b[38;5;241m=\u001b[39m\u001b[38;5;28;01mFalse\u001b[39;00m)\n\u001b[1;32m      4\u001b[0m data_info \u001b[38;5;241m=\u001b[39m pipeline\u001b[38;5;241m.\u001b[39mdata_project_and_info(data\u001b[38;5;241m=\u001b[39mdata_clf[\u001b[38;5;124m'\u001b[39m\u001b[38;5;124mdata\u001b[39m\u001b[38;5;124m'\u001b[39m], m1\u001b[38;5;241m=\u001b[39mdata_clf[\u001b[38;5;124m'\u001b[39m\u001b[38;5;124mmean1\u001b[39m\u001b[38;5;124m'\u001b[39m], m2\u001b[38;5;241m=\u001b[39mdata_clf[\u001b[38;5;124m'\u001b[39m\u001b[38;5;124mmean2\u001b[39m\u001b[38;5;124m'\u001b[39m], clf\u001b[38;5;241m=\u001b[39mdata_clf[\u001b[38;5;124m'\u001b[39m\u001b[38;5;124mclf\u001b[39m\u001b[38;5;124m'\u001b[39m], data_test\u001b[38;5;241m=\u001b[39mdata_clf[\u001b[38;5;124m'\u001b[39m\u001b[38;5;124mdata_test\u001b[39m\u001b[38;5;124m'\u001b[39m], _plot\u001b[38;5;241m=\u001b[39m\u001b[38;5;28;01mFalse\u001b[39;00m, _print\u001b[38;5;241m=\u001b[39m\u001b[38;5;28;01mFalse\u001b[39;00m)\n\u001b[1;32m      5\u001b[0m data_info[\u001b[38;5;124m'\u001b[39m\u001b[38;5;124mN1\u001b[39m\u001b[38;5;124m'\u001b[39m] \u001b[38;5;241m=\u001b[39m N1\n",
      "\u001b[0;31mAttributeError\u001b[0m: module 'pipeline' has no attribute 'get_data_and_classifier'"
     ]
    }
   ],
   "source": [
    "N1 = 100\n",
    "N2 = 100\n",
    "data_clf = pipeline.get_data_and_classifier(N1=N1, N2=N2, _plot=False)\n",
    "data_info = pipeline.data_project_and_info(data=data_clf['data'], m1=data_clf['mean1'], m2=data_clf['mean2'], clf=data_clf['clf'], data_test=data_clf['data_test'], _plot=False, _print=False)\n",
    "data_info['N1'] = N1\n",
    "data_info['N2'] = N2\n",
    "@ipywidgets.interact_manual(\n",
    "    delta1=(0.9, 1., 0.01),\n",
    ")\n",
    "def plot(delta1=1):\n",
    "    vars = {\n",
    "        'delta1': delta1,\n",
    "    }\n",
    "    delta1 = vars['delta1']\n",
    "    delta2 = deltas.delta2_given_delta1_matt(delta1, data_info)\n",
    "    print(f'delta1: {delta1}, delta2: {delta2}')\n",
    "    R1_est = radius.R_upper_bound(data_info['empirical R1'], data_info['R all data'], data_info['N1'], delta1)\n",
    "    R2_est = radius.R_upper_bound(data_info['empirical R2'], data_info['R all data'], data_info['N2'], delta2)\n",
    "    plots.plot_projection(\n",
    "        data_info['projected_data'], data_info['projected_means'], R1_est, R2_est, R_est=True)"
   ]
  },
  {
   "cell_type": "markdown",
   "metadata": {},
   "source": [
    "# Cost Function"
   ]
  },
  {
   "cell_type": "code",
   "execution_count": null,
   "metadata": {},
   "outputs": [
    {
     "data": {
      "application/vnd.jupyter.widget-view+json": {
       "model_id": "3e055881a40d43ad9a7d16e87f3a6a96",
       "version_major": 2,
       "version_minor": 0
      },
      "text/plain": [
       "interactive(children=(FloatSlider(value=0.5, description='delta1', max=1.0), FloatSlider(value=0.5, descriptio…"
      ]
     },
     "metadata": {},
     "output_type": "display_data"
    }
   ],
   "source": [
    "lims = {\n",
    "    'delta1': [0, 1],\n",
    "    'delta2': [0, 1],\n",
    "    'c1': [0, 10],\n",
    "    'c2': [0, 10],\n",
    "    'N1': [1, 100],\n",
    "    'N2': [1, 100],\n",
    "}\n",
    "\n",
    "@ipywidgets.interact_manual(\n",
    "          plot_against=list(lims.keys()),\n",
    "          delta1=(0., 1.),\n",
    "          delta2=(0., 1.),\n",
    "          c1=(0, 10),\n",
    "          c2=(0, 10),\n",
    "          N1=(1, 300),\n",
    "          N2=(1, 300),\n",
    ")\n",
    "def plot(delta1=0.5, \n",
    "         delta2=0.5, \n",
    "         c1=1., \n",
    "         c2=1., \n",
    "         N1=100, \n",
    "         N2=100,\n",
    "         plot_against='delta1'):\n",
    "    vars = {\n",
    "        'delta1': delta1,\n",
    "        'delta2': delta2,\n",
    "        'c1': c1,\n",
    "        'c2': c2,\n",
    "        'N1': N1,\n",
    "        'N2': N2,\n",
    "    }\n",
    "    vars[plot_against] = np.linspace(lims[plot_against][0], lims[plot_against][1], 100)\n",
    "    _, ax = plt.subplots(1, 1, figsize=(8, 6))\n",
    "\n",
    "    J = deltas.loss(delta1=vars['delta1'], delta2=vars['delta2'], data_info=vars)\n",
    "\n",
    "    ax.plot(vars[plot_against], J)\n",
    "    ax.set_ylabel('Cost J')\n",
    "    ax.set_xlabel(plot_against)\n",
    "    ax.set_title(\n",
    "        r\"\"\"Eq. 6: $ \\text{J} = \\sum_{i=1,2} C_i \\left( (1-\\delta_i) \\frac{1}{N_i + 1}+\\delta_i \\right )  $\"\"\")"
   ]
  },
  {
   "cell_type": "markdown",
   "metadata": {},
   "source": [
    "# Cost one delta"
   ]
  },
  {
   "cell_type": "code",
   "execution_count": null,
   "metadata": {},
   "outputs": [
    {
     "data": {
      "application/vnd.jupyter.widget-view+json": {
       "model_id": "a244051c5db64db5aee896cab9f640f4",
       "version_major": 2,
       "version_minor": 0
      },
      "text/plain": [
       "interactive(children=(FloatSlider(value=0.5, description='delta1', max=1.0), IntSlider(value=1, description='c…"
      ]
     },
     "metadata": {},
     "output_type": "display_data"
    }
   ],
   "source": [
    "lims = {\n",
    "    'delta1': [0.000000000001, 0.99999999999999999],\n",
    "    'c1': [0, 10],\n",
    "    'c2': [0, 10],\n",
    "    'N1': [1, 100],\n",
    "    'N2': [1, 100],\n",
    "    'R all data':  [0.1, 3],\n",
    "    'M':  [0, 2],\n",
    "    'empirical R1':  [0, 1],\n",
    "    'empirical R2':  [0, 1],\n",
    "    'empirical D':  [1, 4],\n",
    "}\n",
    "\n",
    "@ipywidgets.interact_manual(\n",
    "          plot_against=list(lims.keys()),\n",
    "          delta1=(0., 1.),\n",
    "          c1=(0, 10),\n",
    "          c2=(0, 10),\n",
    "          N1=(1, 1000),\n",
    "          N2=(1, 1000),\n",
    "          R=(0.1, 3.),\n",
    "          M=(0., 2.),\n",
    ")\n",
    "def plot(delta1=0.5, \n",
    "         c1=1., \n",
    "         c2=1., \n",
    "         N1=100, \n",
    "         N2=100,\n",
    "         R=1,\n",
    "         M=0.5,\n",
    "         R1=0.5,\n",
    "         R2=0.5,\n",
    "         D=3,\n",
    "         plot_against='delta1'):\n",
    "    vars = {\n",
    "        'delta1': delta1,\n",
    "        'c1': c1,\n",
    "        'c2': c2,\n",
    "        'N1': N1,\n",
    "        'N2': N2,\n",
    "        'R all data': R,\n",
    "        'M': M,\n",
    "        'empirical R1':  R1,\n",
    "        'empirical R2':  R2,\n",
    "        'empirical D':  D,\n",
    "    }\n",
    "    vars[plot_against] = np.linspace(lims[plot_against][0], lims[plot_against][1], 100)\n",
    "    \n",
    "    _, ax = plt.subplots(1, 1, figsize=(8, 6))\n",
    "    vars['delta2_given_delta1_func'] = deltas.delta2_given_delta1_matt\n",
    "    J = deltas.loss_one_delta(delta1=vars['delta1'], data_info=vars)\n",
    "    ax.plot(vars[plot_against], J)\n",
    "    ax.set_ylabel('Cost J from delta1 Matt eq 9')\n",
    "    ax.set_xlabel(plot_against)"
   ]
  },
  {
   "cell_type": "markdown",
   "metadata": {},
   "source": [
    "# Eq. 9 - delta2 from delta1"
   ]
  },
  {
   "cell_type": "code",
   "execution_count": null,
   "metadata": {},
   "outputs": [
    {
     "data": {
      "application/vnd.jupyter.widget-view+json": {
       "model_id": "90a78adc7e2a4f3985bbabb6be3d11dc",
       "version_major": 2,
       "version_minor": 0
      },
      "text/plain": [
       "interactive(children=(FloatSlider(value=0.5, description='delta1', max=1.0), IntSlider(value=100, description=…"
      ]
     },
     "metadata": {},
     "output_type": "display_data"
    }
   ],
   "source": [
    "lims = {\n",
    "    'delta1': [0.000000000001, 0.99999999999999999],\n",
    "    'N1': [1, 100],\n",
    "    'N2': [1, 100],\n",
    "    'R all data': [1, 20],\n",
    "    'M_emp': [1, 20],\n",
    "    'empirical R1':  [0, 10],\n",
    "    'empirical R2':  [0, 10],\n",
    "    'empirical D':  [1, 20],\n",
    "}\n",
    "\n",
    "@ipywidgets.interact_manual(\n",
    "          plot_against=list(lims.keys()),\n",
    "          delta1=(0., 1.),\n",
    "          N1=(1, 300),\n",
    "          N2=(1, 300),\n",
    "          R=(0.1, 1.),\n",
    "          M_emp=(0.0, 20.),\n",
    "          R1=(0.1, 0.5),\n",
    "          R2=(0.1, 0.5),\n",
    "          D=(0.2, 0.7),\n",
    ")\n",
    "def plot(delta1=0.5, \n",
    "         N1=100, \n",
    "         N2=100,\n",
    "         R=1,\n",
    "         M_emp=1,\n",
    "         R1=0.2,\n",
    "         R2=0.2,\n",
    "         D=0.6,\n",
    "         plot_against='delta1'):\n",
    "    vars = {\n",
    "        'delta1': delta1,\n",
    "        'N1': N1,\n",
    "        'N2': N2,\n",
    "        'R all data': R,\n",
    "        'M_emp': M_emp,\n",
    "        'empirical R1':  R1,\n",
    "        'empirical R2':  R2,\n",
    "        'empirical D':  D,\n",
    "    }\n",
    "    vars[plot_against] = np.linspace(lims[plot_against][0], lims[plot_against][1], 100)\n",
    "    \n",
    "    _, ax = plt.subplots(1, 1, figsize=(8, 6))\n",
    "    delta2 = deltas.delta2_given_delta1_matt(vars['delta1'], data_info=vars)\n",
    "    ax.plot(vars[plot_against], delta2)\n",
    "    ax.set_ylabel('delta2')\n",
    "    ax.set_xlabel(plot_against)\n",
    "    # ax.set_title(r\"\"\"Eq. 9: $\\delta_2 = \\exp \\left(   -\\frac{N_2}{2} \\left( \\frac{\\hat{M}}{2R} -2\\left(\\sqrt{\\frac{1}{N_1}+\\frac{1}{N_2}}\\right)- \\sqrt{ \\frac{ 2\\ln(\\frac{1}{\\delta_1}) }{N_1} } \\right)^2 \\right) $\"\"\")\n",
    "    "
   ]
  },
  {
   "cell_type": "markdown",
   "metadata": {},
   "source": [
    "# Contraints - eq.7/8"
   ]
  },
  {
   "cell_type": "code",
   "execution_count": null,
   "metadata": {},
   "outputs": [
    {
     "data": {
      "application/vnd.jupyter.widget-view+json": {
       "model_id": "1ee5dfb214f14f868c24b883c49c5dc2",
       "version_major": 2,
       "version_minor": 0
      },
      "text/plain": [
       "interactive(children=(FloatSlider(value=0.5, description='delta1', max=1.0), IntSlider(value=100, description=…"
      ]
     },
     "metadata": {},
     "output_type": "display_data"
    }
   ],
   "source": [
    "lims = {\n",
    "    'delta1': [0.000000000001, 0.99999999999999999],\n",
    "    'delta2': [0.000000000001, 0.99999999999999999],\n",
    "    'N1': [1, 100],\n",
    "    'N2': [1, 100],\n",
    "    'R': [1, 20],\n",
    "    'R1': [1, 20],\n",
    "    'R2': [1, 20],\n",
    "    'D': [1, 20],\n",
    "}\n",
    "\n",
    "@ipywidgets.interact_manual(\n",
    "          delta1=(0., 1.),\n",
    "          N1=(1, 300),\n",
    "          N2=(1, 300),\n",
    "          R=(0.1, 20.),\n",
    "          R1=(0.1, 20.),\n",
    "          R2=(0.1, 20.),\n",
    "          D=(0.0, 20.)\n",
    ")\n",
    "def plot(delta1=0.5, \n",
    "         N1=100, \n",
    "         N2=100,\n",
    "         R=20,\n",
    "         R1=5,\n",
    "         R2=5,\n",
    "         D=15,):\n",
    "    vars = {\n",
    "        'delta1': delta1,\n",
    "        'N1': N1,\n",
    "        'N2': N2,\n",
    "        'R': R,\n",
    "        'R1': R1,\n",
    "        'R2': R2,\n",
    "        'D': D,\n",
    "    }\n",
    "    delta2_linspace = np.linspace(lims['delta2'][0], lims['delta2'][1], 100)\n",
    "    \n",
    "    _, ax = plt.subplots(1, 1, figsize=(8, 6))\n",
    "\n",
    "    data_info = {\n",
    "        'N1': N1,\n",
    "        'N2': N2,\n",
    "        'empirical R1': R1,\n",
    "        'empirical R2': R2,\n",
    "        'R all data': R,\n",
    "        'empirical D': D,\n",
    "    }\n",
    "    contraint_values = deltas.contraint_eq7(vars['delta1'], delta2_linspace, data_info)\n",
    "    ax.plot(delta2_linspace, contraint_values)\n",
    "    ax.set_ylabel('contraint value (should equal 0)')\n",
    "    ax.set_xlabel('delta2')\n",
    "    ax.set_title('eq.7 against delta2')\n",
    "    "
   ]
  }
 ],
 "metadata": {
  "kernelspec": {
   "display_name": "Python 3 (ipykernel)",
   "language": "python",
   "name": "python3"
  },
  "language_info": {
   "codemirror_mode": {
    "name": "ipython",
    "version": 3
   },
   "file_extension": ".py",
   "mimetype": "text/x-python",
   "name": "python",
   "nbconvert_exporter": "python",
   "pygments_lexer": "ipython3",
   "version": "3.10.13"
  }
 },
 "nbformat": 4,
 "nbformat_minor": 4
}
