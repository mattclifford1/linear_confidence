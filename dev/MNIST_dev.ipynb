{
 "cells": [
  {
   "cell_type": "markdown",
   "id": "ebe62896-a314-404b-8355-3c55fd6049fb",
   "metadata": {},
   "source": [
    "# Run the whole deltas algorithm"
   ]
  },
  {
   "cell_type": "code",
   "execution_count": 1,
   "id": "0b681579",
   "metadata": {},
   "outputs": [],
   "source": [
    "%load_ext autoreload\n",
    "%autoreload 2\n",
    "\n",
    "import deltas\n",
    "import numpy as np\n",
    "from deltas.pipeline import data, classifier, evaluation\n",
    "from deltas.classifiers.mnist_train import MNIST_torch, LargeMarginClassifier\n",
    "from deltas.model import downsample, base\n",
    "from tqdm import tqdm\n",
    "from sklearn import datasets, metrics, svm"
   ]
  },
  {
   "cell_type": "markdown",
   "id": "c6540874-d86b-4667-ab5d-1ca452567120",
   "metadata": {},
   "source": [
    "## Get data"
   ]
  },
  {
   "cell_type": "code",
   "execution_count": 2,
   "id": "1dbcbd83-d884-4e9c-beb8-c7c2e2e9dd45",
   "metadata": {},
   "outputs": [
    {
     "name": "stderr",
     "output_type": "stream",
     "text": [
      "                                                                       \r"
     ]
    },
    {
     "name": "stdout",
     "output_type": "stream",
     "text": [
      "12665 6742\n",
      "MNIST: 12583\n",
      "Number of attribues: 784\n",
      "Classes total: 5923 - 6660\n",
      "\n",
      "Classes train: 5330 - 6067\n",
      "Classes test:  593 - 593\n"
     ]
    }
   ],
   "source": [
    "binary = False\n",
    "remove = []\n",
    "remove = [2,3,4,5,6,7,8,9]\n",
    "minority_id = [1]\n",
    "split = 0.9\n",
    "ratio = None\n",
    "data_clf = data.get_real_dataset(\n",
    "    'MNIST', scale=False, binary=binary, classes_remove=remove, minority_id=minority_id,\n",
    "    split=split, ratio=ratio, equal_test=True)\n",
    "X = data_clf['data']['X']\n",
    "y = data_clf['data']['y']\n",
    "# print(len(data_clf['data']['y']))\n",
    "# print(sum(data_clf['data']['y']))\n",
    "# import numpy as np\n",
    "# print(np.unique(data_clf['data']['y']))\n",
    "# deltas.plotting.plots.plot_classes(data_clf['data'], dim_reducer=data_clf['dim_reducer'])"
   ]
  },
  {
   "cell_type": "markdown",
   "id": "21c5b969",
   "metadata": {},
   "source": [
    "# Make sure data is correct"
   ]
  },
  {
   "cell_type": "code",
   "execution_count": 3,
   "id": "adbe55e1",
   "metadata": {},
   "outputs": [],
   "source": [
    "save_ims = False\n",
    "if save_ims == True:\n",
    "    # save data to folder local\n",
    "    import matplotlib.image\n",
    "    X = data_clf['data']['X']\n",
    "    y = data_clf['data']['y']\n",
    "    print(X.shape)\n",
    "    print(y.shape)\n",
    "    bs = 256\n",
    "    num_splits = (len(y)//bs) + 1\n",
    "    all_ids = np.arange(len(y))\n",
    "    np.random.shuffle(all_ids)\n",
    "    batch_ids = np.array_split(all_ids, num_splits)\n",
    "    c = 0\n",
    "    for i, batch in enumerate(batch_ids):\n",
    "        ims = X[batch].reshape([len(batch), 1, 28, 28])\n",
    "        target = y[batch]\n",
    "        for j in range(len(batch)):\n",
    "            im = np.squeeze(ims[j, :, :, :])\n",
    "            matplotlib.image.imsave(f'./data/ims/{c}-{target[j]}.png', im)\n",
    "            c += 1"
   ]
  },
  {
   "cell_type": "code",
   "execution_count": 4,
   "id": "e920c17a",
   "metadata": {},
   "outputs": [],
   "source": [
    "# test can learn on an SVM\n",
    "from sklearn.neural_network import MLPClassifier\n",
    "clfs = [\n",
    "    # svm.SVC(gamma=0.001), \n",
    "    # MLPClassifier(alpha=0, batch_size=256, learning_rate_init=0.001, verbose=True)\n",
    "        ]\n",
    "for clf in clfs:\n",
    "    clf.fit(data_clf['data']['X'], data_clf['data']['y'])\n",
    "    # test\n",
    "    predicted = clf.predict(data_clf['data_test']['X'])\n",
    "    print(\n",
    "        f\"Classification report for classifier {clf}:\\n\"\n",
    "        f\"{metrics.classification_report(data_clf['data_test']['y'], predicted)}\\n\"\n",
    "    )"
   ]
  },
  {
   "cell_type": "markdown",
   "id": "8ba467eb",
   "metadata": {},
   "source": [
    "## Get Classifier"
   ]
  },
  {
   "cell_type": "code",
   "execution_count": 17,
   "id": "ef8f5ff3",
   "metadata": {},
   "outputs": [
    {
     "name": "stdout",
     "output_type": "stream",
     "text": [
      "train set: Accuracy: 0.9997367728349565\n",
      "test set: Accuracy: 0.9991568296795953\n",
      "train set: Balanced Accuracy: 0.9997527608373167\n",
      "test set: Balanced Accuracy: 0.9991568296795953\n"
     ]
    }
   ],
   "source": [
    "\n",
    "model = MNIST_torch\n",
    "# model = LargeMarginClassifier\n",
    "hots = len(np.unique(data_clf['data']['y']))\n",
    "if hots == 2:\n",
    "    hots = 1 # binary\n",
    "clf = model(hots=hots, lr=0.001, cuda=True).fit(\n",
    "    data_clf['data']['X'], data_clf['data']['y'], epochs=10)\n",
    "\n",
    "clf.test(data_clf['data']['X'], data_clf['data']['y'], data_s='train')\n",
    "clf.test(data_clf['data_test']['X'], data_clf['data_test']['y'], data_s='test')\n",
    "clf.test_bal(data_clf['data']['X'], data_clf['data']['y'], data_s='train')\n",
    "clf.test_bal(data_clf['data_test']['X'], data_clf['data_test']['y'], data_s='test')"
   ]
  },
  {
   "cell_type": "markdown",
   "id": "035694bd",
   "metadata": {},
   "source": [
    "# Output formats for deltas"
   ]
  },
  {
   "cell_type": "code",
   "execution_count": 22,
   "id": "ab9c3f6a",
   "metadata": {},
   "outputs": [
    {
     "data": {
      "image/png": "[encoded data removed]",
      "text/plain": [
       "<Figure size 640x480 with 1 Axes>"
      ]
     },
     "metadata": {},
     "output_type": "display_data"
    }
   ],
   "source": [
    "# check the projection to see if it makes any sense\n",
    "X = data_clf['data_test']['X']\n",
    "y = data_clf['data_test']['y']\n",
    "base.base_deltas._plot_projection(X, y, clf)"
   ]
  }
 ],
 "metadata": {
  "kernelspec": {
   "display_name": "Python 3 (ipykernel)",
   "language": "python",
   "name": "python3"
  },
  "language_info": {
   "codemirror_mode": {
    "name": "ipython",
    "version": 3
   },
   "file_extension": ".py",
   "mimetype": "text/x-python",
   "name": "python",
   "nbconvert_exporter": "python",
   "pygments_lexer": "ipython3",
   "version": "3.10.13"
  }
 },
 "nbformat": 4,
 "nbformat_minor": 5
}
