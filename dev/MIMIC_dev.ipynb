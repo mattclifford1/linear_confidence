{
 "cells": [
  {
   "cell_type": "code",
   "execution_count": null,
   "metadata": {},
   "outputs": [],
   "source": [
    "%load_ext autoreload\n",
    "%autoreload 2\n",
    "\n",
    "import deltas\n",
    "from deltas.pipeline import data, classifier, evaluation\n",
    "from deltas.model import downsample\n",
    "import deltas.classifiers.models as models"
   ]
  },
  {
   "cell_type": "code",
   "execution_count": null,
   "metadata": {},
   "outputs": [],
   "source": [
    "dataset = 'MIMIC-IV'  # change ind to select dataset to use\n",
    "model = 'SVM-rbf'\n",
    "model = 'MLP-small'\n",
    "# model = 'Linear'\n",
    "\n",
    "# dataset = datasets[7]  # change ind to select dataset to use\n",
    "data_clf = data.get_real_dataset(dataset, scale=True)"
   ]
  },
  {
   "cell_type": "code",
   "execution_count": null,
   "metadata": {},
   "outputs": [],
   "source": [
    "data = data_clf['data']\n",
    "clf = models.NN(hidden_layer_sizes=(\n",
    "    10, 10), max_iter=10).fit(data['X'], data['y'])"
   ]
  },
  {
   "cell_type": "code",
   "execution_count": null,
   "metadata": {},
   "outputs": [],
   "source": [
    "X = data_clf['data']['X']\n",
    "y = data_clf['data']['y']\n",
    "# deltas_model = model_deltas.reprojection_deltas(\n",
    "deltas_model = downsample.downsample_deltas(clf).fit(X, y,\n",
    "                                                     alpha=10,\n",
    "                                                     _print=True,\n",
    "                                                     _plot=True,\n",
    "                                                     method='supports-prop-update_mean',\n",
    "                                                     max_trials=1000,\n",
    "                                                     parallel=True)"
   ]
  },
  {
   "cell_type": "code",
   "execution_count": null,
   "metadata": {},
   "outputs": [],
   "source": [
    "classifiers_dict = {'Original': clf, 'Deltas': deltas_model}\n",
    "evaluation.eval_test(classifiers_dict, data_clf['data_test'], _print=True,\n",
    "                     _plot=True, dim_reducer=data_clf['dim_reducer'])"
   ]
  }
 ],
 "metadata": {
  "kernelspec": {
   "display_name": "deltas",
   "language": "python",
   "name": "python3"
  },
  "language_info": {
   "codemirror_mode": {
    "name": "ipython",
    "version": 3
   },
   "file_extension": ".py",
   "mimetype": "text/x-python",
   "name": "python",
   "nbconvert_exporter": "python",
   "pygments_lexer": "ipython3",
   "version": "3.10.13"
  }
 },
 "nbformat": 4,
 "nbformat_minor": 2
}
