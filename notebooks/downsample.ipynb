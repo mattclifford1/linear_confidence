{
 "cells": [
  {
   "cell_type": "markdown",
   "id": "ebe62896-a314-404b-8355-3c55fd6049fb",
   "metadata": {},
   "source": [
    "# Run the whole deltas algorithm"
   ]
  },
  {
   "cell_type": "code",
   "execution_count": 17,
   "id": "0b681579",
   "metadata": {},
   "outputs": [
    {
     "name": "stdout",
     "output_type": "stream",
     "text": [
      "The autoreload extension is already loaded. To reload it, use:\n",
      "  %reload_ext autoreload\n"
     ]
    }
   ],
   "source": [
    "%load_ext autoreload\n",
    "%autoreload 2\n",
    "\n",
    "import deltas\n",
    "from deltas.pipeline import data, classifier, evaluation\n",
    "from deltas.model import downsample"
   ]
  },
  {
   "cell_type": "markdown",
   "id": "c6540874-d86b-4667-ab5d-1ca452567120",
   "metadata": {},
   "source": [
    "## Get data"
   ]
  },
  {
   "cell_type": "code",
   "execution_count": 18,
   "id": "1dbcbd83-d884-4e9c-beb8-c7c2e2e9dd45",
   "metadata": {},
   "outputs": [],
   "source": [
    "datasets = {0: 'Breast Cancer', 2: 'Iris', 3: 'Wine', 4: 'Pima Indian Diabetes',\n",
    "            5: 'Sonar Rocks vs Mines', 6: 'Banknote Authentication',\n",
    "            7: 'Abalone Gender', 8: 'Ionosphere', 9: 'Wheat Seeds',\n",
    "            10: 'Credit Scoring 1', 11: 'Credit Scoring 2',\n",
    "            12: 'Direct Marketing', 13: 'Habermans breast cancer',\n",
    "            14: 'Wisconsin Breast Cancer', 15: 'Hepatitis',\n",
    "            16: 'Heart Disease'}\n",
    "\n",
    "dataset = datasets[16]  # change ind to select dataset to use\n",
    "data_clf = data.get_real_dataset(dataset, _print=False, seed=0, scale=True)"
   ]
  },
  {
   "cell_type": "markdown",
   "id": "8ba467eb",
   "metadata": {},
   "source": [
    "## Get Classifier"
   ]
  },
  {
   "cell_type": "code",
   "execution_count": 19,
   "id": "ef8f5ff3",
   "metadata": {},
   "outputs": [],
   "source": [
    "model = 'SVM-linear'\n",
    "model = 'SVM-rbf'\n",
    "# model = 'Linear'\n",
    "# model = 'MLP'\n",
    "classifiers_dict = classifier.get_classifier(\n",
    "                      data_clf=data_clf,\n",
    "                      model=model,\n",
    "                      balance_clf=False,\n",
    "    _plot=False)\n",
    "data_clf['clf'] = classifiers_dict['Baseline']                      "
   ]
  },
  {
   "cell_type": "markdown",
   "id": "df1cd032",
   "metadata": {},
   "source": [
    "## Fit deltas"
   ]
  },
  {
   "cell_type": "code",
   "execution_count": 20,
   "id": "5bd412c8",
   "metadata": {},
   "outputs": [
    {
     "name": "stdout",
     "output_type": "stream",
     "text": [
      "Original Data\n",
      "plotting training data as data input\n"
     ]
    },
    {
     "data": {
      "image/png": "[encoded data removed]",
      "text/plain": [
       "<Figure size 640x480 with 1 Axes>"
      ]
     },
     "metadata": {},
     "output_type": "display_data"
    },
    {
     "name": "stderr",
     "output_type": "stream",
     "text": [
      "                                                                                                                  \r"
     ]
    },
    {
     "name": "stdout",
     "output_type": "stream",
     "text": [
      "Budget 53 found 10 viable downsampled solutions\n",
      "Best solution found by removing 52 data points\n",
      "Downsampled Data:\n"
     ]
    },
    {
     "data": {
      "image/png": "[encoded data removed]",
      "text/plain": [
       "<Figure size 640x480 with 1 Axes>"
      ]
     },
     "metadata": {},
     "output_type": "display_data"
    }
   ],
   "source": [
    "X = data_clf['data']['X']\n",
    "y = data_clf['data']['y']\n",
    "clf = data_clf['clf']\n",
    "# deltas_model = model_deltas.reprojection_deltas(\n",
    "deltas_model = downsample.downsample_deltas(\n",
    "    clf,\n",
    ").fit(X, y, \n",
    "      alpha=1, \n",
    "      continuous_slacks=False,\n",
    "      prop_penalty=True,\n",
    "      _print=True, \n",
    "      _plot=True, \n",
    "      max_trials=1000, \n",
    "      parallel=True)"
   ]
  },
  {
   "cell_type": "markdown",
   "id": "eeb04f44",
   "metadata": {},
   "source": [
    "## Show parameters"
   ]
  },
  {
   "cell_type": "code",
   "execution_count": 21,
   "id": "e9884013",
   "metadata": {},
   "outputs": [
    {
     "name": "stdout",
     "output_type": "stream",
     "text": [
      "Parameters\n",
      "                R:  1.7032521899093922\n",
      "                N1: 42\n",
      "                N2: 12\n",
      "                R1: 0.5470146320561318\n",
      "                R2: 0.6080923028063818\n",
      "                M:  0.7427420699005252\n",
      "                D:  1.8978490047630387\n",
      "                C1: 1\n",
      "                C2: 1\n",
      "\"\n",
      "                  delta1: 0.031900000000000005 \n",
      "                  delta2: 0.9999731476958791\n",
      "                  constraint: 0.0\n",
      "                  \n"
     ]
    }
   ],
   "source": [
    "deltas_model.print_params()\n",
    "deltas_model.print_deltas()"
   ]
  },
  {
   "cell_type": "markdown",
   "id": "035694bd",
   "metadata": {},
   "source": []
  },
  {
   "cell_type": "markdown",
   "id": "8a3a06a3",
   "metadata": {},
   "source": [
    "# Evaluation on test data"
   ]
  },
  {
   "cell_type": "code",
   "execution_count": 22,
   "id": "7cbd52b7",
   "metadata": {},
   "outputs": [
    {
     "name": "stdout",
     "output_type": "stream",
     "text": [
      "                  Accuracy    G-Mean        F1\n",
      "Method                                        \n",
      "Baseline          0.896226  0.780869  0.731707\n",
      "SMOTE             0.839623  0.604858  0.514286\n",
      "Balanced Weights  0.830189  0.725550  0.608696\n",
      "BMR               0.905660  0.826086  0.772727\n",
      "Threshold         0.905660  0.826086  0.772727\n",
      "Our Method        0.905660  0.878839  0.800000 \n",
      "\n",
      "\n"
     ]
    },
    {
     "data": {
      "text/html": [
       "<div>\n",
       "<style scoped>\n",
       "    .dataframe tbody tr th:only-of-type {\n",
       "        vertical-align: middle;\n",
       "    }\n",
       "\n",
       "    .dataframe tbody tr th {\n",
       "        vertical-align: top;\n",
       "    }\n",
       "\n",
       "    .dataframe thead th {\n",
       "        text-align: right;\n",
       "    }\n",
       "</style>\n",
       "<table border=\"1\" class=\"dataframe\">\n",
       "  <thead>\n",
       "    <tr style=\"text-align: right;\">\n",
       "      <th></th>\n",
       "      <th>Accuracy</th>\n",
       "      <th>G-Mean</th>\n",
       "      <th>F1</th>\n",
       "    </tr>\n",
       "    <tr>\n",
       "      <th>Method</th>\n",
       "      <th></th>\n",
       "      <th></th>\n",
       "      <th></th>\n",
       "    </tr>\n",
       "  </thead>\n",
       "  <tbody>\n",
       "    <tr>\n",
       "      <th>Baseline</th>\n",
       "      <td>0.896226</td>\n",
       "      <td>0.780869</td>\n",
       "      <td>0.731707</td>\n",
       "    </tr>\n",
       "    <tr>\n",
       "      <th>SMOTE</th>\n",
       "      <td>0.839623</td>\n",
       "      <td>0.604858</td>\n",
       "      <td>0.514286</td>\n",
       "    </tr>\n",
       "    <tr>\n",
       "      <th>Balanced Weights</th>\n",
       "      <td>0.830189</td>\n",
       "      <td>0.725550</td>\n",
       "      <td>0.608696</td>\n",
       "    </tr>\n",
       "    <tr>\n",
       "      <th>BMR</th>\n",
       "      <td>0.905660</td>\n",
       "      <td>0.826086</td>\n",
       "      <td>0.772727</td>\n",
       "    </tr>\n",
       "    <tr>\n",
       "      <th>Threshold</th>\n",
       "      <td>0.905660</td>\n",
       "      <td>0.826086</td>\n",
       "      <td>0.772727</td>\n",
       "    </tr>\n",
       "    <tr>\n",
       "      <th>Our Method</th>\n",
       "      <td>0.905660</td>\n",
       "      <td>0.878839</td>\n",
       "      <td>0.800000</td>\n",
       "    </tr>\n",
       "  </tbody>\n",
       "</table>\n",
       "</div>"
      ],
      "text/plain": [
       "                  Accuracy    G-Mean        F1\n",
       "Method                                        \n",
       "Baseline          0.896226  0.780869  0.731707\n",
       "SMOTE             0.839623  0.604858  0.514286\n",
       "Balanced Weights  0.830189  0.725550  0.608696\n",
       "BMR               0.905660  0.826086  0.772727\n",
       "Threshold         0.905660  0.826086  0.772727\n",
       "Our Method        0.905660  0.878839  0.800000"
      ]
     },
     "execution_count": 22,
     "metadata": {},
     "output_type": "execute_result"
    }
   ],
   "source": [
    "classifiers_dict['Our Method'] = deltas_model\n",
    "evaluation.eval_test(classifiers_dict,\n",
    "                       data_clf['data_test'], _print=True, _plot=False)"
   ]
  }
 ],
 "metadata": {
  "kernelspec": {
   "display_name": "deltas",
   "language": "python",
   "name": "python3"
  },
  "language_info": {
   "codemirror_mode": {
    "name": "ipython",
    "version": 3
   },
   "file_extension": ".py",
   "mimetype": "text/x-python",
   "name": "python",
   "nbconvert_exporter": "python",
   "pygments_lexer": "ipython3",
   "version": "3.10.13"
  }
 },
 "nbformat": 4,
 "nbformat_minor": 5
}
